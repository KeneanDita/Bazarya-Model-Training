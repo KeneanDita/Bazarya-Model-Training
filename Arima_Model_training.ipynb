{
 "cells": [
  {
   "cell_type": "markdown",
   "id": "9a482f5e-0007-4c3b-b563-bc899d508d53",
   "metadata": {},
   "source": [
    "# Importing Libraries"
   ]
  },
  {
   "cell_type": "code",
   "execution_count": null,
   "id": "602fbdca-5683-42c7-aa16-ff065f010370",
   "metadata": {},
   "outputs": [],
   "source": [
    "import pandas as pd\n",
    "import numpy as np\n",
    "import matplotlib.pyplot as plt\n",
    "import logging\n",
    "import warnings\n",
    "import joblib\n",
    "from statsmodels.tsa.arima.model import ARIMA\n",
    "from statsmodels.tsa.statespace.sarimax import SARIMAX\n",
    "from sklearn.ensemble import RandomForestRegressor\n",
    "from sklearn.preprocessing import LabelEncoder\n",
    "from sklearn.metrics import mean_absolute_percentage_error as sk_mape, mean_squared_error, r2_score\n",
    "from sklearn.model_selection import TimeSeriesSplit, GridSearchCV\n",
    "import pmdarima as pm\n",
    "from prophet import Prophet\n",
    "\n",
    "warnings.filterwarnings(\"ignore\")\n",
    "logging.basicConfig(level=logging.INFO)"
   ]
  },
  {
   "cell_type": "markdown",
   "id": "c31171ee-7e45-44bc-b4c9-792604d9fcf9",
   "metadata": {},
   "source": [
    "# Load Data"
   ]
  },
  {
   "cell_type": "code",
   "execution_count": 4,
   "id": "cd383224-1059-4950-ad32-4b32dccfdb7b",
   "metadata": {},
   "outputs": [],
   "source": [
    "file_path = \"Data/bazarya_price_data.csv\"\n",
    "data = pd.read_csv(file_path)\n",
    "data['date'] = pd.to_datetime(data['date'])\n",
    "data = data.dropna(subset=['date'])"
   ]
  },
  {
   "cell_type": "markdown",
   "id": "32f8e90a-ee32-45de-9e16-f16991a5e691",
   "metadata": {},
   "source": [
    "# Define Helper Functions"
   ]
  },
  {
   "cell_type": "code",
   "execution_count": 8,
   "id": "02a92ea0-1f34-4d0b-b3a5-5bcb9d0768e4",
   "metadata": {},
   "outputs": [],
   "source": [
    "def mean_absolute_percentage_error(y_true, y_pred):\n",
    "    y_true, y_pred = np.array(y_true), np.array(y_pred)\n",
    "    mask = y_true != 0\n",
    "    if not np.any(mask):\n",
    "        return np.nan\n",
    "    return np.mean(np.abs((y_true[mask] - y_pred[mask]) / y_true[mask])) * 100\n",
    "\n",
    "def prepare_series(data, product, freq='W'):\n",
    "    df = data[data['product'] == product].copy()\n",
    "    df = df.set_index('date').sort_index()\n",
    "    ts = df['price'].resample(freq).mean().interpolate(method='time')\n",
    "    return ts.dropna()\n",
    "\n",
    "def prophet_forecast(ts, h=12):\n",
    "    if Prophet is None: return None\n",
    "    df = ts.reset_index().rename(columns={'date': 'ds', 'price': 'y'})\n",
    "    try:\n",
    "        model = Prophet()\n",
    "        model.fit(df)\n",
    "        future = model.make_future_dataframe(periods=h, freq='W')\n",
    "        forecast = model.predict(future)\n",
    "        return forecast[['ds', 'yhat']].set_index('ds').iloc[-h:]['yhat']\n",
    "    except Exception:\n",
    "        return None\n",
    "\n",
    "def create_ml_features(ts):\n",
    "    df = ts.to_frame(name='y')\n",
    "    for lag in [1, 2, 3, 4, 12]:\n",
    "        df[f'lag_{lag}'] = df['y'].shift(lag)\n",
    "    df['month'] = df.index.month\n",
    "    df['week'] = df.index.isocalendar().week.astype(int)\n",
    "    df['year'] = df.index.year\n",
    "    df['dayofweek'] = df.index.dayofweek\n",
    "    return df.dropna()\n",
    "\n",
    "def ml_forecast(ts, h=12, product_name=None):\n",
    "    df_feat = create_ml_features(ts)\n",
    "    if len(df_feat) < h + 10:\n",
    "        return None, None, None\n",
    "    train = df_feat.iloc[:-h]\n",
    "    test = df_feat.iloc[-h:]\n",
    "    X_train, y_train = train.drop(columns=['y']), train['y']\n",
    "    X_test, y_test = test.drop(columns=['y']), test['y']\n",
    "\n",
    "    param_grid = {\n",
    "        'n_estimators': [100, 200],\n",
    "        'max_depth': [5, 10, None]\n",
    "    }\n",
    "    tscv = TimeSeriesSplit(n_splits=3)\n",
    "    model = GridSearchCV(RandomForestRegressor(random_state=42), param_grid, cv=tscv)\n",
    "    model.fit(X_train, y_train)\n",
    "    y_pred = model.predict(X_test)\n",
    "\n",
    "    if product_name:\n",
    "        joblib.dump(model.best_estimator_, f\"{product_name}_rf_model.pkl\")\n",
    "\n",
    "    return y_pred, y_test.values, model.best_estimator_"
   ]
  },
  {
   "cell_type": "markdown",
   "id": "f68389dd-dc73-4852-95c1-b08d1acd1948",
   "metadata": {},
   "source": [
    "# Run Forecasting for All Products"
   ]
  },
  {
   "cell_type": "code",
   "execution_count": null,
   "id": "e7e08092-86ad-46b2-884c-17cac790e19f",
   "metadata": {
    "scrolled": true
   },
   "outputs": [
    {
     "name": "stderr",
     "output_type": "stream",
     "text": [
      "DEBUG:cmdstanpy:cmd: where.exe tbb.dll\n",
      "cwd: None\n",
      "DEBUG:cmdstanpy:TBB already found in load path\n",
      "INFO:prophet:Disabling yearly seasonality. Run prophet with yearly_seasonality=True to override this.\n",
      "INFO:prophet:Disabling weekly seasonality. Run prophet with weekly_seasonality=True to override this.\n",
      "INFO:prophet:Disabling daily seasonality. Run prophet with daily_seasonality=True to override this.\n",
      "DEBUG:cmdstanpy:input tempfile: C:\\Users\\Ken\\AppData\\Local\\Temp\\tmpri48ruo1\\rf4wmnme.json\n",
      "DEBUG:cmdstanpy:input tempfile: C:\\Users\\Ken\\AppData\\Local\\Temp\\tmpri48ruo1\\6tand68p.json\n",
      "DEBUG:cmdstanpy:idx 0\n",
      "DEBUG:cmdstanpy:running CmdStan, num_threads: None\n",
      "DEBUG:cmdstanpy:CmdStan args: ['C:\\\\Users\\\\Ken\\\\anaconda3\\\\Lib\\\\site-packages\\\\prophet\\\\stan_model\\\\prophet_model.bin', 'random', 'seed=31148', 'data', 'file=C:\\\\Users\\\\Ken\\\\AppData\\\\Local\\\\Temp\\\\tmpri48ruo1\\\\rf4wmnme.json', 'init=C:\\\\Users\\\\Ken\\\\AppData\\\\Local\\\\Temp\\\\tmpri48ruo1\\\\6tand68p.json', 'output', 'file=C:\\\\Users\\\\Ken\\\\AppData\\\\Local\\\\Temp\\\\tmpri48ruo1\\\\prophet_modeld2n0azqk\\\\prophet_model-20250625184600.csv', 'method=optimize', 'algorithm=newton', 'iter=10000']\n",
      "18:46:00 - cmdstanpy - INFO - Chain [1] start processing\n",
      "INFO:cmdstanpy:Chain [1] start processing\n",
      "18:46:00 - cmdstanpy - INFO - Chain [1] done processing\n",
      "INFO:cmdstanpy:Chain [1] done processing\n"
     ]
    },
    {
     "data": {
      "text/plain": [
       "['Millet_arima_model.pkl']"
      ]
     },
     "execution_count": 10,
     "metadata": {},
     "output_type": "execute_result"
    },
    {
     "name": "stderr",
     "output_type": "stream",
     "text": [
      "DEBUG:cmdstanpy:cmd: where.exe tbb.dll\n",
      "cwd: None\n",
      "DEBUG:cmdstanpy:TBB already found in load path\n",
      "INFO:prophet:Disabling yearly seasonality. Run prophet with yearly_seasonality=True to override this.\n",
      "INFO:prophet:Disabling weekly seasonality. Run prophet with weekly_seasonality=True to override this.\n",
      "INFO:prophet:Disabling daily seasonality. Run prophet with daily_seasonality=True to override this.\n",
      "DEBUG:cmdstanpy:input tempfile: C:\\Users\\Ken\\AppData\\Local\\Temp\\tmpri48ruo1\\b3uu9fjz.json\n",
      "DEBUG:cmdstanpy:input tempfile: C:\\Users\\Ken\\AppData\\Local\\Temp\\tmpri48ruo1\\lpr_hchm.json\n",
      "DEBUG:cmdstanpy:idx 0\n",
      "DEBUG:cmdstanpy:running CmdStan, num_threads: None\n",
      "DEBUG:cmdstanpy:CmdStan args: ['C:\\\\Users\\\\Ken\\\\anaconda3\\\\Lib\\\\site-packages\\\\prophet\\\\stan_model\\\\prophet_model.bin', 'random', 'seed=78394', 'data', 'file=C:\\\\Users\\\\Ken\\\\AppData\\\\Local\\\\Temp\\\\tmpri48ruo1\\\\b3uu9fjz.json', 'init=C:\\\\Users\\\\Ken\\\\AppData\\\\Local\\\\Temp\\\\tmpri48ruo1\\\\lpr_hchm.json', 'output', 'file=C:\\\\Users\\\\Ken\\\\AppData\\\\Local\\\\Temp\\\\tmpri48ruo1\\\\prophet_modelrpk7r3dm\\\\prophet_model-20250625184608.csv', 'method=optimize', 'algorithm=newton', 'iter=10000']\n",
      "18:46:08 - cmdstanpy - INFO - Chain [1] start processing\n",
      "INFO:cmdstanpy:Chain [1] start processing\n",
      "18:46:08 - cmdstanpy - INFO - Chain [1] done processing\n",
      "INFO:cmdstanpy:Chain [1] done processing\n"
     ]
    },
    {
     "data": {
      "text/plain": [
       "['Hot_pepper_arima_model.pkl']"
      ]
     },
     "execution_count": 10,
     "metadata": {},
     "output_type": "execute_result"
    },
    {
     "name": "stderr",
     "output_type": "stream",
     "text": [
      "DEBUG:cmdstanpy:cmd: where.exe tbb.dll\n",
      "cwd: None\n",
      "DEBUG:cmdstanpy:TBB already found in load path\n",
      "INFO:prophet:Disabling yearly seasonality. Run prophet with yearly_seasonality=True to override this.\n",
      "INFO:prophet:Disabling weekly seasonality. Run prophet with weekly_seasonality=True to override this.\n",
      "INFO:prophet:Disabling daily seasonality. Run prophet with daily_seasonality=True to override this.\n",
      "DEBUG:cmdstanpy:input tempfile: C:\\Users\\Ken\\AppData\\Local\\Temp\\tmpri48ruo1\\ol39hxki.json\n",
      "DEBUG:cmdstanpy:input tempfile: C:\\Users\\Ken\\AppData\\Local\\Temp\\tmpri48ruo1\\gpx5ok75.json\n",
      "DEBUG:cmdstanpy:idx 0\n",
      "DEBUG:cmdstanpy:running CmdStan, num_threads: None\n",
      "DEBUG:cmdstanpy:CmdStan args: ['C:\\\\Users\\\\Ken\\\\anaconda3\\\\Lib\\\\site-packages\\\\prophet\\\\stan_model\\\\prophet_model.bin', 'random', 'seed=79488', 'data', 'file=C:\\\\Users\\\\Ken\\\\AppData\\\\Local\\\\Temp\\\\tmpri48ruo1\\\\ol39hxki.json', 'init=C:\\\\Users\\\\Ken\\\\AppData\\\\Local\\\\Temp\\\\tmpri48ruo1\\\\gpx5ok75.json', 'output', 'file=C:\\\\Users\\\\Ken\\\\AppData\\\\Local\\\\Temp\\\\tmpri48ruo1\\\\prophet_model56ukkcl9\\\\prophet_model-20250625184621.csv', 'method=optimize', 'algorithm=newton', 'iter=10000']\n",
      "18:46:21 - cmdstanpy - INFO - Chain [1] start processing\n",
      "INFO:cmdstanpy:Chain [1] start processing\n",
      "18:46:21 - cmdstanpy - INFO - Chain [1] done processing\n",
      "INFO:cmdstanpy:Chain [1] done processing\n"
     ]
    },
    {
     "data": {
      "text/plain": [
       "['Sugar_(local)_arima_model.pkl']"
      ]
     },
     "execution_count": 10,
     "metadata": {},
     "output_type": "execute_result"
    },
    {
     "name": "stderr",
     "output_type": "stream",
     "text": [
      "DEBUG:cmdstanpy:cmd: where.exe tbb.dll\n",
      "cwd: None\n",
      "DEBUG:cmdstanpy:TBB already found in load path\n",
      "INFO:prophet:Disabling yearly seasonality. Run prophet with yearly_seasonality=True to override this.\n",
      "INFO:prophet:Disabling weekly seasonality. Run prophet with weekly_seasonality=True to override this.\n",
      "INFO:prophet:Disabling daily seasonality. Run prophet with daily_seasonality=True to override this.\n",
      "DEBUG:cmdstanpy:input tempfile: C:\\Users\\Ken\\AppData\\Local\\Temp\\tmpri48ruo1\\bi59r_sz.json\n",
      "DEBUG:cmdstanpy:input tempfile: C:\\Users\\Ken\\AppData\\Local\\Temp\\tmpri48ruo1\\kzoadm3c.json\n",
      "DEBUG:cmdstanpy:idx 0\n",
      "DEBUG:cmdstanpy:running CmdStan, num_threads: None\n",
      "DEBUG:cmdstanpy:CmdStan args: ['C:\\\\Users\\\\Ken\\\\anaconda3\\\\Lib\\\\site-packages\\\\prophet\\\\stan_model\\\\prophet_model.bin', 'random', 'seed=262', 'data', 'file=C:\\\\Users\\\\Ken\\\\AppData\\\\Local\\\\Temp\\\\tmpri48ruo1\\\\bi59r_sz.json', 'init=C:\\\\Users\\\\Ken\\\\AppData\\\\Local\\\\Temp\\\\tmpri48ruo1\\\\kzoadm3c.json', 'output', 'file=C:\\\\Users\\\\Ken\\\\AppData\\\\Local\\\\Temp\\\\tmpri48ruo1\\\\prophet_modelhmi_vk1k\\\\prophet_model-20250625184626.csv', 'method=optimize', 'algorithm=newton', 'iter=10000']\n",
      "18:46:26 - cmdstanpy - INFO - Chain [1] start processing\n",
      "INFO:cmdstanpy:Chain [1] start processing\n",
      "18:46:27 - cmdstanpy - INFO - Chain [1] done processing\n",
      "INFO:cmdstanpy:Chain [1] done processing\n"
     ]
    },
    {
     "data": {
      "text/plain": [
       "['Fava_beans_arima_model.pkl']"
      ]
     },
     "execution_count": 10,
     "metadata": {},
     "output_type": "execute_result"
    },
    {
     "name": "stderr",
     "output_type": "stream",
     "text": [
      "DEBUG:cmdstanpy:cmd: where.exe tbb.dll\n",
      "cwd: None\n",
      "DEBUG:cmdstanpy:TBB already found in load path\n",
      "INFO:prophet:Disabling yearly seasonality. Run prophet with yearly_seasonality=True to override this.\n",
      "INFO:prophet:Disabling weekly seasonality. Run prophet with weekly_seasonality=True to override this.\n",
      "INFO:prophet:Disabling daily seasonality. Run prophet with daily_seasonality=True to override this.\n",
      "DEBUG:cmdstanpy:input tempfile: C:\\Users\\Ken\\AppData\\Local\\Temp\\tmpri48ruo1\\w31z0myl.json\n",
      "DEBUG:cmdstanpy:input tempfile: C:\\Users\\Ken\\AppData\\Local\\Temp\\tmpri48ruo1\\7ubyoal_.json\n",
      "DEBUG:cmdstanpy:idx 0\n",
      "DEBUG:cmdstanpy:running CmdStan, num_threads: None\n",
      "DEBUG:cmdstanpy:CmdStan args: ['C:\\\\Users\\\\Ken\\\\anaconda3\\\\Lib\\\\site-packages\\\\prophet\\\\stan_model\\\\prophet_model.bin', 'random', 'seed=23513', 'data', 'file=C:\\\\Users\\\\Ken\\\\AppData\\\\Local\\\\Temp\\\\tmpri48ruo1\\\\w31z0myl.json', 'init=C:\\\\Users\\\\Ken\\\\AppData\\\\Local\\\\Temp\\\\tmpri48ruo1\\\\7ubyoal_.json', 'output', 'file=C:\\\\Users\\\\Ken\\\\AppData\\\\Local\\\\Temp\\\\tmpri48ruo1\\\\prophet_modellcotkjma\\\\prophet_model-20250625184632.csv', 'method=optimize', 'algorithm=newton', 'iter=10000']\n",
      "18:46:32 - cmdstanpy - INFO - Chain [1] start processing\n",
      "INFO:cmdstanpy:Chain [1] start processing\n",
      "18:46:32 - cmdstanpy - INFO - Chain [1] done processing\n",
      "INFO:cmdstanpy:Chain [1] done processing\n"
     ]
    },
    {
     "data": {
      "text/plain": [
       "['Nifro_arima_model.pkl']"
      ]
     },
     "execution_count": 10,
     "metadata": {},
     "output_type": "execute_result"
    },
    {
     "name": "stderr",
     "output_type": "stream",
     "text": [
      "DEBUG:cmdstanpy:cmd: where.exe tbb.dll\n",
      "cwd: None\n",
      "DEBUG:cmdstanpy:TBB already found in load path\n",
      "INFO:prophet:Disabling yearly seasonality. Run prophet with yearly_seasonality=True to override this.\n",
      "INFO:prophet:Disabling weekly seasonality. Run prophet with weekly_seasonality=True to override this.\n",
      "INFO:prophet:Disabling daily seasonality. Run prophet with daily_seasonality=True to override this.\n",
      "DEBUG:cmdstanpy:input tempfile: C:\\Users\\Ken\\AppData\\Local\\Temp\\tmpri48ruo1\\53vdg705.json\n",
      "DEBUG:cmdstanpy:input tempfile: C:\\Users\\Ken\\AppData\\Local\\Temp\\tmpri48ruo1\\kafqk2eo.json\n",
      "DEBUG:cmdstanpy:idx 0\n",
      "DEBUG:cmdstanpy:running CmdStan, num_threads: None\n",
      "DEBUG:cmdstanpy:CmdStan args: ['C:\\\\Users\\\\Ken\\\\anaconda3\\\\Lib\\\\site-packages\\\\prophet\\\\stan_model\\\\prophet_model.bin', 'random', 'seed=38008', 'data', 'file=C:\\\\Users\\\\Ken\\\\AppData\\\\Local\\\\Temp\\\\tmpri48ruo1\\\\53vdg705.json', 'init=C:\\\\Users\\\\Ken\\\\AppData\\\\Local\\\\Temp\\\\tmpri48ruo1\\\\kafqk2eo.json', 'output', 'file=C:\\\\Users\\\\Ken\\\\AppData\\\\Local\\\\Temp\\\\tmpri48ruo1\\\\prophet_modelb0m_1836\\\\prophet_model-20250625184640.csv', 'method=optimize', 'algorithm=newton', 'iter=10000']\n",
      "18:46:40 - cmdstanpy - INFO - Chain [1] start processing\n",
      "INFO:cmdstanpy:Chain [1] start processing\n",
      "18:46:40 - cmdstanpy - INFO - Chain [1] done processing\n",
      "INFO:cmdstanpy:Chain [1] done processing\n"
     ]
    },
    {
     "data": {
      "text/plain": [
       "['Cabbage_arima_model.pkl']"
      ]
     },
     "execution_count": 10,
     "metadata": {},
     "output_type": "execute_result"
    },
    {
     "name": "stderr",
     "output_type": "stream",
     "text": [
      "DEBUG:cmdstanpy:cmd: where.exe tbb.dll\n",
      "cwd: None\n",
      "DEBUG:cmdstanpy:TBB already found in load path\n",
      "INFO:prophet:Disabling yearly seasonality. Run prophet with yearly_seasonality=True to override this.\n",
      "INFO:prophet:Disabling weekly seasonality. Run prophet with weekly_seasonality=True to override this.\n",
      "INFO:prophet:Disabling daily seasonality. Run prophet with daily_seasonality=True to override this.\n",
      "DEBUG:cmdstanpy:input tempfile: C:\\Users\\Ken\\AppData\\Local\\Temp\\tmpri48ruo1\\9olxj2dw.json\n",
      "DEBUG:cmdstanpy:input tempfile: C:\\Users\\Ken\\AppData\\Local\\Temp\\tmpri48ruo1\\ww59zd6i.json\n",
      "DEBUG:cmdstanpy:idx 0\n",
      "DEBUG:cmdstanpy:running CmdStan, num_threads: None\n",
      "DEBUG:cmdstanpy:CmdStan args: ['C:\\\\Users\\\\Ken\\\\anaconda3\\\\Lib\\\\site-packages\\\\prophet\\\\stan_model\\\\prophet_model.bin', 'random', 'seed=18444', 'data', 'file=C:\\\\Users\\\\Ken\\\\AppData\\\\Local\\\\Temp\\\\tmpri48ruo1\\\\9olxj2dw.json', 'init=C:\\\\Users\\\\Ken\\\\AppData\\\\Local\\\\Temp\\\\tmpri48ruo1\\\\ww59zd6i.json', 'output', 'file=C:\\\\Users\\\\Ken\\\\AppData\\\\Local\\\\Temp\\\\tmpri48ruo1\\\\prophet_modelj46mi96i\\\\prophet_model-20250625184647.csv', 'method=optimize', 'algorithm=newton', 'iter=10000']\n",
      "18:46:47 - cmdstanpy - INFO - Chain [1] start processing\n",
      "INFO:cmdstanpy:Chain [1] start processing\n",
      "18:46:47 - cmdstanpy - INFO - Chain [1] done processing\n",
      "INFO:cmdstanpy:Chain [1] done processing\n"
     ]
    },
    {
     "data": {
      "text/plain": [
       "['Chicken_(dressed)_arima_model.pkl']"
      ]
     },
     "execution_count": 10,
     "metadata": {},
     "output_type": "execute_result"
    },
    {
     "name": "stderr",
     "output_type": "stream",
     "text": [
      "DEBUG:cmdstanpy:cmd: where.exe tbb.dll\n",
      "cwd: None\n",
      "DEBUG:cmdstanpy:TBB already found in load path\n",
      "INFO:prophet:Disabling yearly seasonality. Run prophet with yearly_seasonality=True to override this.\n",
      "INFO:prophet:Disabling weekly seasonality. Run prophet with weekly_seasonality=True to override this.\n",
      "INFO:prophet:Disabling daily seasonality. Run prophet with daily_seasonality=True to override this.\n",
      "DEBUG:cmdstanpy:input tempfile: C:\\Users\\Ken\\AppData\\Local\\Temp\\tmpri48ruo1\\3zcx_thr.json\n",
      "DEBUG:cmdstanpy:input tempfile: C:\\Users\\Ken\\AppData\\Local\\Temp\\tmpri48ruo1\\pk12d8eu.json\n",
      "DEBUG:cmdstanpy:idx 0\n",
      "DEBUG:cmdstanpy:running CmdStan, num_threads: None\n",
      "DEBUG:cmdstanpy:CmdStan args: ['C:\\\\Users\\\\Ken\\\\anaconda3\\\\Lib\\\\site-packages\\\\prophet\\\\stan_model\\\\prophet_model.bin', 'random', 'seed=90520', 'data', 'file=C:\\\\Users\\\\Ken\\\\AppData\\\\Local\\\\Temp\\\\tmpri48ruo1\\\\3zcx_thr.json', 'init=C:\\\\Users\\\\Ken\\\\AppData\\\\Local\\\\Temp\\\\tmpri48ruo1\\\\pk12d8eu.json', 'output', 'file=C:\\\\Users\\\\Ken\\\\AppData\\\\Local\\\\Temp\\\\tmpri48ruo1\\\\prophet_modelsznw79y2\\\\prophet_model-20250625184651.csv', 'method=optimize', 'algorithm=newton', 'iter=10000']\n",
      "18:46:51 - cmdstanpy - INFO - Chain [1] start processing\n",
      "INFO:cmdstanpy:Chain [1] start processing\n",
      "18:46:51 - cmdstanpy - INFO - Chain [1] done processing\n",
      "INFO:cmdstanpy:Chain [1] done processing\n"
     ]
    },
    {
     "data": {
      "text/plain": [
       "['Beef_(raw)_arima_model.pkl']"
      ]
     },
     "execution_count": 10,
     "metadata": {},
     "output_type": "execute_result"
    },
    {
     "name": "stderr",
     "output_type": "stream",
     "text": [
      "DEBUG:cmdstanpy:cmd: where.exe tbb.dll\n",
      "cwd: None\n",
      "DEBUG:cmdstanpy:TBB already found in load path\n",
      "INFO:prophet:Disabling yearly seasonality. Run prophet with yearly_seasonality=True to override this.\n",
      "INFO:prophet:Disabling weekly seasonality. Run prophet with weekly_seasonality=True to override this.\n",
      "INFO:prophet:Disabling daily seasonality. Run prophet with daily_seasonality=True to override this.\n",
      "DEBUG:cmdstanpy:input tempfile: C:\\Users\\Ken\\AppData\\Local\\Temp\\tmpri48ruo1\\6vrqim50.json\n",
      "DEBUG:cmdstanpy:input tempfile: C:\\Users\\Ken\\AppData\\Local\\Temp\\tmpri48ruo1\\hkxh02gh.json\n",
      "DEBUG:cmdstanpy:idx 0\n",
      "DEBUG:cmdstanpy:running CmdStan, num_threads: None\n",
      "DEBUG:cmdstanpy:CmdStan args: ['C:\\\\Users\\\\Ken\\\\anaconda3\\\\Lib\\\\site-packages\\\\prophet\\\\stan_model\\\\prophet_model.bin', 'random', 'seed=84952', 'data', 'file=C:\\\\Users\\\\Ken\\\\AppData\\\\Local\\\\Temp\\\\tmpri48ruo1\\\\6vrqim50.json', 'init=C:\\\\Users\\\\Ken\\\\AppData\\\\Local\\\\Temp\\\\tmpri48ruo1\\\\hkxh02gh.json', 'output', 'file=C:\\\\Users\\\\Ken\\\\AppData\\\\Local\\\\Temp\\\\tmpri48ruo1\\\\prophet_modelh4rry8fd\\\\prophet_model-20250625184656.csv', 'method=optimize', 'algorithm=newton', 'iter=10000']\n",
      "18:46:56 - cmdstanpy - INFO - Chain [1] start processing\n",
      "INFO:cmdstanpy:Chain [1] start processing\n",
      "18:46:56 - cmdstanpy - INFO - Chain [1] done processing\n",
      "INFO:cmdstanpy:Chain [1] done processing\n"
     ]
    },
    {
     "data": {
      "text/plain": [
       "['Milk_(raw)_arima_model.pkl']"
      ]
     },
     "execution_count": 10,
     "metadata": {},
     "output_type": "execute_result"
    },
    {
     "name": "stderr",
     "output_type": "stream",
     "text": [
      "DEBUG:cmdstanpy:cmd: where.exe tbb.dll\n",
      "cwd: None\n",
      "DEBUG:cmdstanpy:TBB already found in load path\n",
      "INFO:prophet:Disabling yearly seasonality. Run prophet with yearly_seasonality=True to override this.\n",
      "INFO:prophet:Disabling weekly seasonality. Run prophet with weekly_seasonality=True to override this.\n",
      "INFO:prophet:Disabling daily seasonality. Run prophet with daily_seasonality=True to override this.\n",
      "DEBUG:cmdstanpy:input tempfile: C:\\Users\\Ken\\AppData\\Local\\Temp\\tmpri48ruo1\\diuyoc96.json\n",
      "DEBUG:cmdstanpy:input tempfile: C:\\Users\\Ken\\AppData\\Local\\Temp\\tmpri48ruo1\\r1t3g78q.json\n",
      "DEBUG:cmdstanpy:idx 0\n",
      "DEBUG:cmdstanpy:running CmdStan, num_threads: None\n",
      "DEBUG:cmdstanpy:CmdStan args: ['C:\\\\Users\\\\Ken\\\\anaconda3\\\\Lib\\\\site-packages\\\\prophet\\\\stan_model\\\\prophet_model.bin', 'random', 'seed=43315', 'data', 'file=C:\\\\Users\\\\Ken\\\\AppData\\\\Local\\\\Temp\\\\tmpri48ruo1\\\\diuyoc96.json', 'init=C:\\\\Users\\\\Ken\\\\AppData\\\\Local\\\\Temp\\\\tmpri48ruo1\\\\r1t3g78q.json', 'output', 'file=C:\\\\Users\\\\Ken\\\\AppData\\\\Local\\\\Temp\\\\tmpri48ruo1\\\\prophet_model2wg3evr2\\\\prophet_model-20250625184701.csv', 'method=optimize', 'algorithm=newton', 'iter=10000']\n",
      "18:47:01 - cmdstanpy - INFO - Chain [1] start processing\n",
      "INFO:cmdstanpy:Chain [1] start processing\n",
      "18:47:02 - cmdstanpy - INFO - Chain [1] done processing\n",
      "INFO:cmdstanpy:Chain [1] done processing\n"
     ]
    },
    {
     "data": {
      "text/plain": [
       "['Onion_(red)_arima_model.pkl']"
      ]
     },
     "execution_count": 10,
     "metadata": {},
     "output_type": "execute_result"
    },
    {
     "name": "stderr",
     "output_type": "stream",
     "text": [
      "DEBUG:cmdstanpy:cmd: where.exe tbb.dll\n",
      "cwd: None\n",
      "DEBUG:cmdstanpy:TBB already found in load path\n",
      "INFO:prophet:Disabling yearly seasonality. Run prophet with yearly_seasonality=True to override this.\n",
      "INFO:prophet:Disabling weekly seasonality. Run prophet with weekly_seasonality=True to override this.\n",
      "INFO:prophet:Disabling daily seasonality. Run prophet with daily_seasonality=True to override this.\n",
      "DEBUG:cmdstanpy:input tempfile: C:\\Users\\Ken\\AppData\\Local\\Temp\\tmpri48ruo1\\hzx9nyqv.json\n",
      "DEBUG:cmdstanpy:input tempfile: C:\\Users\\Ken\\AppData\\Local\\Temp\\tmpri48ruo1\\sjtk1wea.json\n",
      "DEBUG:cmdstanpy:idx 0\n",
      "DEBUG:cmdstanpy:running CmdStan, num_threads: None\n",
      "DEBUG:cmdstanpy:CmdStan args: ['C:\\\\Users\\\\Ken\\\\anaconda3\\\\Lib\\\\site-packages\\\\prophet\\\\stan_model\\\\prophet_model.bin', 'random', 'seed=13492', 'data', 'file=C:\\\\Users\\\\Ken\\\\AppData\\\\Local\\\\Temp\\\\tmpri48ruo1\\\\hzx9nyqv.json', 'init=C:\\\\Users\\\\Ken\\\\AppData\\\\Local\\\\Temp\\\\tmpri48ruo1\\\\sjtk1wea.json', 'output', 'file=C:\\\\Users\\\\Ken\\\\AppData\\\\Local\\\\Temp\\\\tmpri48ruo1\\\\prophet_model1mxjy530\\\\prophet_model-20250625184708.csv', 'method=optimize', 'algorithm=newton', 'iter=10000']\n",
      "18:47:09 - cmdstanpy - INFO - Chain [1] start processing\n",
      "INFO:cmdstanpy:Chain [1] start processing\n",
      "18:47:09 - cmdstanpy - INFO - Chain [1] done processing\n",
      "INFO:cmdstanpy:Chain [1] done processing\n"
     ]
    },
    {
     "data": {
      "text/plain": [
       "['Green_pepper_arima_model.pkl']"
      ]
     },
     "execution_count": 10,
     "metadata": {},
     "output_type": "execute_result"
    },
    {
     "name": "stderr",
     "output_type": "stream",
     "text": [
      "DEBUG:cmdstanpy:cmd: where.exe tbb.dll\n",
      "cwd: None\n",
      "DEBUG:cmdstanpy:TBB already found in load path\n",
      "INFO:prophet:Disabling yearly seasonality. Run prophet with yearly_seasonality=True to override this.\n",
      "INFO:prophet:Disabling weekly seasonality. Run prophet with weekly_seasonality=True to override this.\n",
      "INFO:prophet:Disabling daily seasonality. Run prophet with daily_seasonality=True to override this.\n",
      "DEBUG:cmdstanpy:input tempfile: C:\\Users\\Ken\\AppData\\Local\\Temp\\tmpri48ruo1\\s0kijtoj.json\n",
      "DEBUG:cmdstanpy:input tempfile: C:\\Users\\Ken\\AppData\\Local\\Temp\\tmpri48ruo1\\0dmvkasy.json\n",
      "DEBUG:cmdstanpy:idx 0\n",
      "DEBUG:cmdstanpy:running CmdStan, num_threads: None\n",
      "DEBUG:cmdstanpy:CmdStan args: ['C:\\\\Users\\\\Ken\\\\anaconda3\\\\Lib\\\\site-packages\\\\prophet\\\\stan_model\\\\prophet_model.bin', 'random', 'seed=20469', 'data', 'file=C:\\\\Users\\\\Ken\\\\AppData\\\\Local\\\\Temp\\\\tmpri48ruo1\\\\s0kijtoj.json', 'init=C:\\\\Users\\\\Ken\\\\AppData\\\\Local\\\\Temp\\\\tmpri48ruo1\\\\0dmvkasy.json', 'output', 'file=C:\\\\Users\\\\Ken\\\\AppData\\\\Local\\\\Temp\\\\tmpri48ruo1\\\\prophet_model5tl5xq5k\\\\prophet_model-20250625184716.csv', 'method=optimize', 'algorithm=newton', 'iter=10000']\n",
      "18:47:16 - cmdstanpy - INFO - Chain [1] start processing\n",
      "INFO:cmdstanpy:Chain [1] start processing\n",
      "18:47:16 - cmdstanpy - INFO - Chain [1] done processing\n",
      "INFO:cmdstanpy:Chain [1] done processing\n"
     ]
    },
    {
     "data": {
      "text/plain": [
       "['Barley_arima_model.pkl']"
      ]
     },
     "execution_count": 10,
     "metadata": {},
     "output_type": "execute_result"
    },
    {
     "name": "stderr",
     "output_type": "stream",
     "text": [
      "DEBUG:cmdstanpy:cmd: where.exe tbb.dll\n",
      "cwd: None\n",
      "DEBUG:cmdstanpy:TBB already found in load path\n",
      "INFO:prophet:Disabling yearly seasonality. Run prophet with yearly_seasonality=True to override this.\n",
      "INFO:prophet:Disabling weekly seasonality. Run prophet with weekly_seasonality=True to override this.\n",
      "INFO:prophet:Disabling daily seasonality. Run prophet with daily_seasonality=True to override this.\n",
      "DEBUG:cmdstanpy:input tempfile: C:\\Users\\Ken\\AppData\\Local\\Temp\\tmpri48ruo1\\5muo_acj.json\n",
      "DEBUG:cmdstanpy:input tempfile: C:\\Users\\Ken\\AppData\\Local\\Temp\\tmpri48ruo1\\szesxyhe.json\n",
      "DEBUG:cmdstanpy:idx 0\n",
      "DEBUG:cmdstanpy:running CmdStan, num_threads: None\n",
      "DEBUG:cmdstanpy:CmdStan args: ['C:\\\\Users\\\\Ken\\\\anaconda3\\\\Lib\\\\site-packages\\\\prophet\\\\stan_model\\\\prophet_model.bin', 'random', 'seed=97508', 'data', 'file=C:\\\\Users\\\\Ken\\\\AppData\\\\Local\\\\Temp\\\\tmpri48ruo1\\\\5muo_acj.json', 'init=C:\\\\Users\\\\Ken\\\\AppData\\\\Local\\\\Temp\\\\tmpri48ruo1\\\\szesxyhe.json', 'output', 'file=C:\\\\Users\\\\Ken\\\\AppData\\\\Local\\\\Temp\\\\tmpri48ruo1\\\\prophet_model46op2hdk\\\\prophet_model-20250625184721.csv', 'method=optimize', 'algorithm=newton', 'iter=10000']\n",
      "18:47:21 - cmdstanpy - INFO - Chain [1] start processing\n",
      "INFO:cmdstanpy:Chain [1] start processing\n",
      "18:47:22 - cmdstanpy - INFO - Chain [1] done processing\n",
      "INFO:cmdstanpy:Chain [1] done processing\n"
     ]
    },
    {
     "data": {
      "text/plain": [
       "['Rice_(imported)_arima_model.pkl']"
      ]
     },
     "execution_count": 10,
     "metadata": {},
     "output_type": "execute_result"
    },
    {
     "name": "stderr",
     "output_type": "stream",
     "text": [
      "DEBUG:cmdstanpy:cmd: where.exe tbb.dll\n",
      "cwd: None\n",
      "DEBUG:cmdstanpy:TBB already found in load path\n",
      "INFO:prophet:Disabling yearly seasonality. Run prophet with yearly_seasonality=True to override this.\n",
      "INFO:prophet:Disabling weekly seasonality. Run prophet with weekly_seasonality=True to override this.\n",
      "INFO:prophet:Disabling daily seasonality. Run prophet with daily_seasonality=True to override this.\n",
      "DEBUG:cmdstanpy:input tempfile: C:\\Users\\Ken\\AppData\\Local\\Temp\\tmpri48ruo1\\pk35_2do.json\n",
      "DEBUG:cmdstanpy:input tempfile: C:\\Users\\Ken\\AppData\\Local\\Temp\\tmpri48ruo1\\6a1jw9si.json\n",
      "DEBUG:cmdstanpy:idx 0\n",
      "DEBUG:cmdstanpy:running CmdStan, num_threads: None\n",
      "DEBUG:cmdstanpy:CmdStan args: ['C:\\\\Users\\\\Ken\\\\anaconda3\\\\Lib\\\\site-packages\\\\prophet\\\\stan_model\\\\prophet_model.bin', 'random', 'seed=95497', 'data', 'file=C:\\\\Users\\\\Ken\\\\AppData\\\\Local\\\\Temp\\\\tmpri48ruo1\\\\pk35_2do.json', 'init=C:\\\\Users\\\\Ken\\\\AppData\\\\Local\\\\Temp\\\\tmpri48ruo1\\\\6a1jw9si.json', 'output', 'file=C:\\\\Users\\\\Ken\\\\AppData\\\\Local\\\\Temp\\\\tmpri48ruo1\\\\prophet_modelw2h639h1\\\\prophet_model-20250625184730.csv', 'method=optimize', 'algorithm=newton', 'iter=10000']\n",
      "18:47:30 - cmdstanpy - INFO - Chain [1] start processing\n",
      "INFO:cmdstanpy:Chain [1] start processing\n",
      "18:47:30 - cmdstanpy - INFO - Chain [1] done processing\n",
      "INFO:cmdstanpy:Chain [1] done processing\n"
     ]
    },
    {
     "data": {
      "text/plain": [
       "['Tea_(local)_arima_model.pkl']"
      ]
     },
     "execution_count": 10,
     "metadata": {},
     "output_type": "execute_result"
    },
    {
     "name": "stderr",
     "output_type": "stream",
     "text": [
      "DEBUG:cmdstanpy:cmd: where.exe tbb.dll\n",
      "cwd: None\n",
      "DEBUG:cmdstanpy:TBB already found in load path\n",
      "INFO:prophet:Disabling yearly seasonality. Run prophet with yearly_seasonality=True to override this.\n",
      "INFO:prophet:Disabling weekly seasonality. Run prophet with weekly_seasonality=True to override this.\n",
      "INFO:prophet:Disabling daily seasonality. Run prophet with daily_seasonality=True to override this.\n",
      "DEBUG:cmdstanpy:input tempfile: C:\\Users\\Ken\\AppData\\Local\\Temp\\tmpri48ruo1\\mu1r5ezt.json\n",
      "DEBUG:cmdstanpy:input tempfile: C:\\Users\\Ken\\AppData\\Local\\Temp\\tmpri48ruo1\\hnso66ej.json\n",
      "DEBUG:cmdstanpy:idx 0\n",
      "DEBUG:cmdstanpy:running CmdStan, num_threads: None\n",
      "DEBUG:cmdstanpy:CmdStan args: ['C:\\\\Users\\\\Ken\\\\anaconda3\\\\Lib\\\\site-packages\\\\prophet\\\\stan_model\\\\prophet_model.bin', 'random', 'seed=7133', 'data', 'file=C:\\\\Users\\\\Ken\\\\AppData\\\\Local\\\\Temp\\\\tmpri48ruo1\\\\mu1r5ezt.json', 'init=C:\\\\Users\\\\Ken\\\\AppData\\\\Local\\\\Temp\\\\tmpri48ruo1\\\\hnso66ej.json', 'output', 'file=C:\\\\Users\\\\Ken\\\\AppData\\\\Local\\\\Temp\\\\tmpri48ruo1\\\\prophet_model3p29rst4\\\\prophet_model-20250625184737.csv', 'method=optimize', 'algorithm=newton', 'iter=10000']\n",
      "18:47:37 - cmdstanpy - INFO - Chain [1] start processing\n",
      "INFO:cmdstanpy:Chain [1] start processing\n",
      "18:47:38 - cmdstanpy - INFO - Chain [1] done processing\n",
      "INFO:cmdstanpy:Chain [1] done processing\n"
     ]
    },
    {
     "data": {
      "text/plain": [
       "['Cheese_(Ayib)_arima_model.pkl']"
      ]
     },
     "execution_count": 10,
     "metadata": {},
     "output_type": "execute_result"
    },
    {
     "name": "stderr",
     "output_type": "stream",
     "text": [
      "DEBUG:cmdstanpy:cmd: where.exe tbb.dll\n",
      "cwd: None\n",
      "DEBUG:cmdstanpy:TBB already found in load path\n",
      "INFO:prophet:Disabling yearly seasonality. Run prophet with yearly_seasonality=True to override this.\n",
      "INFO:prophet:Disabling weekly seasonality. Run prophet with weekly_seasonality=True to override this.\n",
      "INFO:prophet:Disabling daily seasonality. Run prophet with daily_seasonality=True to override this.\n",
      "DEBUG:cmdstanpy:input tempfile: C:\\Users\\Ken\\AppData\\Local\\Temp\\tmpri48ruo1\\8nyea9s6.json\n",
      "DEBUG:cmdstanpy:input tempfile: C:\\Users\\Ken\\AppData\\Local\\Temp\\tmpri48ruo1\\x5ikt5w8.json\n",
      "DEBUG:cmdstanpy:idx 0\n",
      "DEBUG:cmdstanpy:running CmdStan, num_threads: None\n",
      "DEBUG:cmdstanpy:CmdStan args: ['C:\\\\Users\\\\Ken\\\\anaconda3\\\\Lib\\\\site-packages\\\\prophet\\\\stan_model\\\\prophet_model.bin', 'random', 'seed=82058', 'data', 'file=C:\\\\Users\\\\Ken\\\\AppData\\\\Local\\\\Temp\\\\tmpri48ruo1\\\\8nyea9s6.json', 'init=C:\\\\Users\\\\Ken\\\\AppData\\\\Local\\\\Temp\\\\tmpri48ruo1\\\\x5ikt5w8.json', 'output', 'file=C:\\\\Users\\\\Ken\\\\AppData\\\\Local\\\\Temp\\\\tmpri48ruo1\\\\prophet_modelg2gj3vut\\\\prophet_model-20250625184745.csv', 'method=optimize', 'algorithm=newton', 'iter=10000']\n",
      "18:47:45 - cmdstanpy - INFO - Chain [1] start processing\n",
      "INFO:cmdstanpy:Chain [1] start processing\n",
      "18:47:45 - cmdstanpy - INFO - Chain [1] done processing\n",
      "INFO:cmdstanpy:Chain [1] done processing\n"
     ]
    },
    {
     "data": {
      "text/plain": [
       "['Maize_arima_model.pkl']"
      ]
     },
     "execution_count": 10,
     "metadata": {},
     "output_type": "execute_result"
    },
    {
     "name": "stderr",
     "output_type": "stream",
     "text": [
      "DEBUG:cmdstanpy:cmd: where.exe tbb.dll\n",
      "cwd: None\n",
      "DEBUG:cmdstanpy:TBB already found in load path\n",
      "INFO:prophet:Disabling yearly seasonality. Run prophet with yearly_seasonality=True to override this.\n",
      "INFO:prophet:Disabling weekly seasonality. Run prophet with weekly_seasonality=True to override this.\n",
      "INFO:prophet:Disabling daily seasonality. Run prophet with daily_seasonality=True to override this.\n",
      "DEBUG:cmdstanpy:input tempfile: C:\\Users\\Ken\\AppData\\Local\\Temp\\tmpri48ruo1\\icbl27o8.json\n",
      "DEBUG:cmdstanpy:input tempfile: C:\\Users\\Ken\\AppData\\Local\\Temp\\tmpri48ruo1\\heqp1g7e.json\n",
      "DEBUG:cmdstanpy:idx 0\n",
      "DEBUG:cmdstanpy:running CmdStan, num_threads: None\n",
      "DEBUG:cmdstanpy:CmdStan args: ['C:\\\\Users\\\\Ken\\\\anaconda3\\\\Lib\\\\site-packages\\\\prophet\\\\stan_model\\\\prophet_model.bin', 'random', 'seed=70378', 'data', 'file=C:\\\\Users\\\\Ken\\\\AppData\\\\Local\\\\Temp\\\\tmpri48ruo1\\\\icbl27o8.json', 'init=C:\\\\Users\\\\Ken\\\\AppData\\\\Local\\\\Temp\\\\tmpri48ruo1\\\\heqp1g7e.json', 'output', 'file=C:\\\\Users\\\\Ken\\\\AppData\\\\Local\\\\Temp\\\\tmpri48ruo1\\\\prophet_modelwcqt6se3\\\\prophet_model-20250625184751.csv', 'method=optimize', 'algorithm=newton', 'iter=10000']\n",
      "18:47:51 - cmdstanpy - INFO - Chain [1] start processing\n",
      "INFO:cmdstanpy:Chain [1] start processing\n",
      "18:47:52 - cmdstanpy - INFO - Chain [1] done processing\n",
      "INFO:cmdstanpy:Chain [1] done processing\n"
     ]
    },
    {
     "data": {
      "text/plain": [
       "['Butter_(traditional)_arima_model.pkl']"
      ]
     },
     "execution_count": 10,
     "metadata": {},
     "output_type": "execute_result"
    },
    {
     "name": "stderr",
     "output_type": "stream",
     "text": [
      "DEBUG:cmdstanpy:cmd: where.exe tbb.dll\n",
      "cwd: None\n",
      "DEBUG:cmdstanpy:TBB already found in load path\n",
      "INFO:prophet:Disabling yearly seasonality. Run prophet with yearly_seasonality=True to override this.\n",
      "INFO:prophet:Disabling weekly seasonality. Run prophet with weekly_seasonality=True to override this.\n",
      "INFO:prophet:Disabling daily seasonality. Run prophet with daily_seasonality=True to override this.\n",
      "DEBUG:cmdstanpy:input tempfile: C:\\Users\\Ken\\AppData\\Local\\Temp\\tmpri48ruo1\\1y58uuqz.json\n",
      "DEBUG:cmdstanpy:input tempfile: C:\\Users\\Ken\\AppData\\Local\\Temp\\tmpri48ruo1\\yfvlv2gd.json\n",
      "DEBUG:cmdstanpy:idx 0\n",
      "DEBUG:cmdstanpy:running CmdStan, num_threads: None\n",
      "DEBUG:cmdstanpy:CmdStan args: ['C:\\\\Users\\\\Ken\\\\anaconda3\\\\Lib\\\\site-packages\\\\prophet\\\\stan_model\\\\prophet_model.bin', 'random', 'seed=98574', 'data', 'file=C:\\\\Users\\\\Ken\\\\AppData\\\\Local\\\\Temp\\\\tmpri48ruo1\\\\1y58uuqz.json', 'init=C:\\\\Users\\\\Ken\\\\AppData\\\\Local\\\\Temp\\\\tmpri48ruo1\\\\yfvlv2gd.json', 'output', 'file=C:\\\\Users\\\\Ken\\\\AppData\\\\Local\\\\Temp\\\\tmpri48ruo1\\\\prophet_model0f91u8cr\\\\prophet_model-20250625184757.csv', 'method=optimize', 'algorithm=newton', 'iter=10000']\n",
      "18:47:57 - cmdstanpy - INFO - Chain [1] start processing\n",
      "INFO:cmdstanpy:Chain [1] start processing\n",
      "18:47:58 - cmdstanpy - INFO - Chain [1] done processing\n",
      "INFO:cmdstanpy:Chain [1] done processing\n"
     ]
    },
    {
     "data": {
      "text/plain": [
       "['Lettuce_arima_model.pkl']"
      ]
     },
     "execution_count": 10,
     "metadata": {},
     "output_type": "execute_result"
    },
    {
     "name": "stderr",
     "output_type": "stream",
     "text": [
      "DEBUG:cmdstanpy:cmd: where.exe tbb.dll\n",
      "cwd: None\n",
      "DEBUG:cmdstanpy:TBB already found in load path\n",
      "INFO:prophet:Disabling yearly seasonality. Run prophet with yearly_seasonality=True to override this.\n",
      "INFO:prophet:Disabling weekly seasonality. Run prophet with weekly_seasonality=True to override this.\n",
      "INFO:prophet:Disabling daily seasonality. Run prophet with daily_seasonality=True to override this.\n",
      "DEBUG:cmdstanpy:input tempfile: C:\\Users\\Ken\\AppData\\Local\\Temp\\tmpri48ruo1\\8aq953jt.json\n",
      "DEBUG:cmdstanpy:input tempfile: C:\\Users\\Ken\\AppData\\Local\\Temp\\tmpri48ruo1\\ewta2f1m.json\n",
      "DEBUG:cmdstanpy:idx 0\n",
      "DEBUG:cmdstanpy:running CmdStan, num_threads: None\n",
      "DEBUG:cmdstanpy:CmdStan args: ['C:\\\\Users\\\\Ken\\\\anaconda3\\\\Lib\\\\site-packages\\\\prophet\\\\stan_model\\\\prophet_model.bin', 'random', 'seed=84749', 'data', 'file=C:\\\\Users\\\\Ken\\\\AppData\\\\Local\\\\Temp\\\\tmpri48ruo1\\\\8aq953jt.json', 'init=C:\\\\Users\\\\Ken\\\\AppData\\\\Local\\\\Temp\\\\tmpri48ruo1\\\\ewta2f1m.json', 'output', 'file=C:\\\\Users\\\\Ken\\\\AppData\\\\Local\\\\Temp\\\\tmpri48ruo1\\\\prophet_modelmuypgn5k\\\\prophet_model-20250625184803.csv', 'method=optimize', 'algorithm=newton', 'iter=10000']\n",
      "18:48:03 - cmdstanpy - INFO - Chain [1] start processing\n",
      "INFO:cmdstanpy:Chain [1] start processing\n",
      "18:48:03 - cmdstanpy - INFO - Chain [1] done processing\n",
      "INFO:cmdstanpy:Chain [1] done processing\n"
     ]
    },
    {
     "data": {
      "text/plain": [
       "['Beetroot_arima_model.pkl']"
      ]
     },
     "execution_count": 10,
     "metadata": {},
     "output_type": "execute_result"
    },
    {
     "name": "stderr",
     "output_type": "stream",
     "text": [
      "DEBUG:cmdstanpy:cmd: where.exe tbb.dll\n",
      "cwd: None\n",
      "DEBUG:cmdstanpy:TBB already found in load path\n",
      "INFO:prophet:Disabling yearly seasonality. Run prophet with yearly_seasonality=True to override this.\n",
      "INFO:prophet:Disabling weekly seasonality. Run prophet with weekly_seasonality=True to override this.\n",
      "INFO:prophet:Disabling daily seasonality. Run prophet with daily_seasonality=True to override this.\n",
      "DEBUG:cmdstanpy:input tempfile: C:\\Users\\Ken\\AppData\\Local\\Temp\\tmpri48ruo1\\3u5sdr07.json\n",
      "DEBUG:cmdstanpy:input tempfile: C:\\Users\\Ken\\AppData\\Local\\Temp\\tmpri48ruo1\\7u86k70c.json\n",
      "DEBUG:cmdstanpy:idx 0\n",
      "DEBUG:cmdstanpy:running CmdStan, num_threads: None\n",
      "DEBUG:cmdstanpy:CmdStan args: ['C:\\\\Users\\\\Ken\\\\anaconda3\\\\Lib\\\\site-packages\\\\prophet\\\\stan_model\\\\prophet_model.bin', 'random', 'seed=23611', 'data', 'file=C:\\\\Users\\\\Ken\\\\AppData\\\\Local\\\\Temp\\\\tmpri48ruo1\\\\3u5sdr07.json', 'init=C:\\\\Users\\\\Ken\\\\AppData\\\\Local\\\\Temp\\\\tmpri48ruo1\\\\7u86k70c.json', 'output', 'file=C:\\\\Users\\\\Ken\\\\AppData\\\\Local\\\\Temp\\\\tmpri48ruo1\\\\prophet_modelr2uszr6p\\\\prophet_model-20250625184813.csv', 'method=optimize', 'algorithm=newton', 'iter=10000']\n",
      "18:48:13 - cmdstanpy - INFO - Chain [1] start processing\n",
      "INFO:cmdstanpy:Chain [1] start processing\n",
      "18:48:14 - cmdstanpy - INFO - Chain [1] done processing\n",
      "INFO:cmdstanpy:Chain [1] done processing\n"
     ]
    },
    {
     "data": {
      "text/plain": [
       "['Teff_(white)_arima_model.pkl']"
      ]
     },
     "execution_count": 10,
     "metadata": {},
     "output_type": "execute_result"
    },
    {
     "name": "stderr",
     "output_type": "stream",
     "text": [
      "DEBUG:cmdstanpy:cmd: where.exe tbb.dll\n",
      "cwd: None\n",
      "DEBUG:cmdstanpy:TBB already found in load path\n",
      "INFO:prophet:Disabling yearly seasonality. Run prophet with yearly_seasonality=True to override this.\n",
      "INFO:prophet:Disabling weekly seasonality. Run prophet with weekly_seasonality=True to override this.\n",
      "INFO:prophet:Disabling daily seasonality. Run prophet with daily_seasonality=True to override this.\n",
      "DEBUG:cmdstanpy:input tempfile: C:\\Users\\Ken\\AppData\\Local\\Temp\\tmpri48ruo1\\z2ydj65c.json\n",
      "DEBUG:cmdstanpy:input tempfile: C:\\Users\\Ken\\AppData\\Local\\Temp\\tmpri48ruo1\\e7wddsrb.json\n",
      "DEBUG:cmdstanpy:idx 0\n",
      "DEBUG:cmdstanpy:running CmdStan, num_threads: None\n",
      "DEBUG:cmdstanpy:CmdStan args: ['C:\\\\Users\\\\Ken\\\\anaconda3\\\\Lib\\\\site-packages\\\\prophet\\\\stan_model\\\\prophet_model.bin', 'random', 'seed=75528', 'data', 'file=C:\\\\Users\\\\Ken\\\\AppData\\\\Local\\\\Temp\\\\tmpri48ruo1\\\\z2ydj65c.json', 'init=C:\\\\Users\\\\Ken\\\\AppData\\\\Local\\\\Temp\\\\tmpri48ruo1\\\\e7wddsrb.json', 'output', 'file=C:\\\\Users\\\\Ken\\\\AppData\\\\Local\\\\Temp\\\\tmpri48ruo1\\\\prophet_model_ifphg56\\\\prophet_model-20250625184822.csv', 'method=optimize', 'algorithm=newton', 'iter=10000']\n",
      "18:48:22 - cmdstanpy - INFO - Chain [1] start processing\n",
      "INFO:cmdstanpy:Chain [1] start processing\n",
      "18:48:22 - cmdstanpy - INFO - Chain [1] done processing\n",
      "INFO:cmdstanpy:Chain [1] done processing\n"
     ]
    },
    {
     "data": {
      "text/plain": [
       "['Papaya_arima_model.pkl']"
      ]
     },
     "execution_count": 10,
     "metadata": {},
     "output_type": "execute_result"
    },
    {
     "name": "stderr",
     "output_type": "stream",
     "text": [
      "DEBUG:cmdstanpy:cmd: where.exe tbb.dll\n",
      "cwd: None\n",
      "DEBUG:cmdstanpy:TBB already found in load path\n",
      "INFO:prophet:Disabling yearly seasonality. Run prophet with yearly_seasonality=True to override this.\n",
      "INFO:prophet:Disabling weekly seasonality. Run prophet with weekly_seasonality=True to override this.\n",
      "INFO:prophet:Disabling daily seasonality. Run prophet with daily_seasonality=True to override this.\n",
      "DEBUG:cmdstanpy:input tempfile: C:\\Users\\Ken\\AppData\\Local\\Temp\\tmpri48ruo1\\yy3bq74y.json\n",
      "DEBUG:cmdstanpy:input tempfile: C:\\Users\\Ken\\AppData\\Local\\Temp\\tmpri48ruo1\\elqs7nt7.json\n",
      "DEBUG:cmdstanpy:idx 0\n",
      "DEBUG:cmdstanpy:running CmdStan, num_threads: None\n",
      "DEBUG:cmdstanpy:CmdStan args: ['C:\\\\Users\\\\Ken\\\\anaconda3\\\\Lib\\\\site-packages\\\\prophet\\\\stan_model\\\\prophet_model.bin', 'random', 'seed=330', 'data', 'file=C:\\\\Users\\\\Ken\\\\AppData\\\\Local\\\\Temp\\\\tmpri48ruo1\\\\yy3bq74y.json', 'init=C:\\\\Users\\\\Ken\\\\AppData\\\\Local\\\\Temp\\\\tmpri48ruo1\\\\elqs7nt7.json', 'output', 'file=C:\\\\Users\\\\Ken\\\\AppData\\\\Local\\\\Temp\\\\tmpri48ruo1\\\\prophet_modelpqwd48zb\\\\prophet_model-20250625184828.csv', 'method=optimize', 'algorithm=newton', 'iter=10000']\n",
      "18:48:28 - cmdstanpy - INFO - Chain [1] start processing\n",
      "INFO:cmdstanpy:Chain [1] start processing\n",
      "18:48:29 - cmdstanpy - INFO - Chain [1] done processing\n",
      "INFO:cmdstanpy:Chain [1] done processing\n"
     ]
    },
    {
     "data": {
      "text/plain": [
       "['Cooking_oil_(palm)_arima_model.pkl']"
      ]
     },
     "execution_count": 10,
     "metadata": {},
     "output_type": "execute_result"
    },
    {
     "name": "stderr",
     "output_type": "stream",
     "text": [
      "DEBUG:cmdstanpy:cmd: where.exe tbb.dll\n",
      "cwd: None\n",
      "DEBUG:cmdstanpy:TBB already found in load path\n",
      "INFO:prophet:Disabling yearly seasonality. Run prophet with yearly_seasonality=True to override this.\n",
      "INFO:prophet:Disabling weekly seasonality. Run prophet with weekly_seasonality=True to override this.\n",
      "INFO:prophet:Disabling daily seasonality. Run prophet with daily_seasonality=True to override this.\n",
      "DEBUG:cmdstanpy:input tempfile: C:\\Users\\Ken\\AppData\\Local\\Temp\\tmpri48ruo1\\tqr5y2gh.json\n",
      "DEBUG:cmdstanpy:input tempfile: C:\\Users\\Ken\\AppData\\Local\\Temp\\tmpri48ruo1\\k6wo6bsz.json\n",
      "DEBUG:cmdstanpy:idx 0\n",
      "DEBUG:cmdstanpy:running CmdStan, num_threads: None\n",
      "DEBUG:cmdstanpy:CmdStan args: ['C:\\\\Users\\\\Ken\\\\anaconda3\\\\Lib\\\\site-packages\\\\prophet\\\\stan_model\\\\prophet_model.bin', 'random', 'seed=45588', 'data', 'file=C:\\\\Users\\\\Ken\\\\AppData\\\\Local\\\\Temp\\\\tmpri48ruo1\\\\tqr5y2gh.json', 'init=C:\\\\Users\\\\Ken\\\\AppData\\\\Local\\\\Temp\\\\tmpri48ruo1\\\\k6wo6bsz.json', 'output', 'file=C:\\\\Users\\\\Ken\\\\AppData\\\\Local\\\\Temp\\\\tmpri48ruo1\\\\prophet_modelutpubczz\\\\prophet_model-20250625184835.csv', 'method=optimize', 'algorithm=newton', 'iter=10000']\n",
      "18:48:35 - cmdstanpy - INFO - Chain [1] start processing\n",
      "INFO:cmdstanpy:Chain [1] start processing\n",
      "18:48:35 - cmdstanpy - INFO - Chain [1] done processing\n",
      "INFO:cmdstanpy:Chain [1] done processing\n"
     ]
    },
    {
     "data": {
      "text/plain": [
       "['Chicken_(live)_arima_model.pkl']"
      ]
     },
     "execution_count": 10,
     "metadata": {},
     "output_type": "execute_result"
    },
    {
     "name": "stderr",
     "output_type": "stream",
     "text": [
      "DEBUG:cmdstanpy:cmd: where.exe tbb.dll\n",
      "cwd: None\n",
      "DEBUG:cmdstanpy:TBB already found in load path\n",
      "INFO:prophet:Disabling yearly seasonality. Run prophet with yearly_seasonality=True to override this.\n",
      "INFO:prophet:Disabling weekly seasonality. Run prophet with weekly_seasonality=True to override this.\n",
      "INFO:prophet:Disabling daily seasonality. Run prophet with daily_seasonality=True to override this.\n",
      "DEBUG:cmdstanpy:input tempfile: C:\\Users\\Ken\\AppData\\Local\\Temp\\tmpri48ruo1\\x57uxsjz.json\n",
      "DEBUG:cmdstanpy:input tempfile: C:\\Users\\Ken\\AppData\\Local\\Temp\\tmpri48ruo1\\5vp45yp_.json\n",
      "DEBUG:cmdstanpy:idx 0\n",
      "DEBUG:cmdstanpy:running CmdStan, num_threads: None\n",
      "DEBUG:cmdstanpy:CmdStan args: ['C:\\\\Users\\\\Ken\\\\anaconda3\\\\Lib\\\\site-packages\\\\prophet\\\\stan_model\\\\prophet_model.bin', 'random', 'seed=76862', 'data', 'file=C:\\\\Users\\\\Ken\\\\AppData\\\\Local\\\\Temp\\\\tmpri48ruo1\\\\x57uxsjz.json', 'init=C:\\\\Users\\\\Ken\\\\AppData\\\\Local\\\\Temp\\\\tmpri48ruo1\\\\5vp45yp_.json', 'output', 'file=C:\\\\Users\\\\Ken\\\\AppData\\\\Local\\\\Temp\\\\tmpri48ruo1\\\\prophet_model4g1cycy6\\\\prophet_model-20250625184843.csv', 'method=optimize', 'algorithm=newton', 'iter=10000']\n",
      "18:48:43 - cmdstanpy - INFO - Chain [1] start processing\n",
      "INFO:cmdstanpy:Chain [1] start processing\n",
      "18:48:43 - cmdstanpy - INFO - Chain [1] done processing\n",
      "INFO:cmdstanpy:Chain [1] done processing\n"
     ]
    },
    {
     "data": {
      "text/plain": [
       "['Apple_(local)_arima_model.pkl']"
      ]
     },
     "execution_count": 10,
     "metadata": {},
     "output_type": "execute_result"
    },
    {
     "name": "stderr",
     "output_type": "stream",
     "text": [
      "DEBUG:cmdstanpy:cmd: where.exe tbb.dll\n",
      "cwd: None\n",
      "DEBUG:cmdstanpy:TBB already found in load path\n",
      "INFO:prophet:Disabling yearly seasonality. Run prophet with yearly_seasonality=True to override this.\n",
      "INFO:prophet:Disabling weekly seasonality. Run prophet with weekly_seasonality=True to override this.\n",
      "INFO:prophet:Disabling daily seasonality. Run prophet with daily_seasonality=True to override this.\n",
      "DEBUG:cmdstanpy:input tempfile: C:\\Users\\Ken\\AppData\\Local\\Temp\\tmpri48ruo1\\7dslg8ya.json\n",
      "DEBUG:cmdstanpy:input tempfile: C:\\Users\\Ken\\AppData\\Local\\Temp\\tmpri48ruo1\\l049d7na.json\n",
      "DEBUG:cmdstanpy:idx 0\n",
      "DEBUG:cmdstanpy:running CmdStan, num_threads: None\n",
      "DEBUG:cmdstanpy:CmdStan args: ['C:\\\\Users\\\\Ken\\\\anaconda3\\\\Lib\\\\site-packages\\\\prophet\\\\stan_model\\\\prophet_model.bin', 'random', 'seed=36334', 'data', 'file=C:\\\\Users\\\\Ken\\\\AppData\\\\Local\\\\Temp\\\\tmpri48ruo1\\\\7dslg8ya.json', 'init=C:\\\\Users\\\\Ken\\\\AppData\\\\Local\\\\Temp\\\\tmpri48ruo1\\\\l049d7na.json', 'output', 'file=C:\\\\Users\\\\Ken\\\\AppData\\\\Local\\\\Temp\\\\tmpri48ruo1\\\\prophet_modelbpsc5me9\\\\prophet_model-20250625184848.csv', 'method=optimize', 'algorithm=newton', 'iter=10000']\n",
      "18:48:48 - cmdstanpy - INFO - Chain [1] start processing\n",
      "INFO:cmdstanpy:Chain [1] start processing\n",
      "18:48:48 - cmdstanpy - INFO - Chain [1] done processing\n",
      "INFO:cmdstanpy:Chain [1] done processing\n"
     ]
    },
    {
     "data": {
      "text/plain": [
       "['Banana_arima_model.pkl']"
      ]
     },
     "execution_count": 10,
     "metadata": {},
     "output_type": "execute_result"
    },
    {
     "name": "stderr",
     "output_type": "stream",
     "text": [
      "DEBUG:cmdstanpy:cmd: where.exe tbb.dll\n",
      "cwd: None\n",
      "DEBUG:cmdstanpy:TBB already found in load path\n",
      "INFO:prophet:Disabling yearly seasonality. Run prophet with yearly_seasonality=True to override this.\n",
      "INFO:prophet:Disabling weekly seasonality. Run prophet with weekly_seasonality=True to override this.\n",
      "INFO:prophet:Disabling daily seasonality. Run prophet with daily_seasonality=True to override this.\n",
      "DEBUG:cmdstanpy:input tempfile: C:\\Users\\Ken\\AppData\\Local\\Temp\\tmpri48ruo1\\mkvk4mln.json\n",
      "DEBUG:cmdstanpy:input tempfile: C:\\Users\\Ken\\AppData\\Local\\Temp\\tmpri48ruo1\\7_0d__1w.json\n",
      "DEBUG:cmdstanpy:idx 0\n",
      "DEBUG:cmdstanpy:running CmdStan, num_threads: None\n",
      "DEBUG:cmdstanpy:CmdStan args: ['C:\\\\Users\\\\Ken\\\\anaconda3\\\\Lib\\\\site-packages\\\\prophet\\\\stan_model\\\\prophet_model.bin', 'random', 'seed=8313', 'data', 'file=C:\\\\Users\\\\Ken\\\\AppData\\\\Local\\\\Temp\\\\tmpri48ruo1\\\\mkvk4mln.json', 'init=C:\\\\Users\\\\Ken\\\\AppData\\\\Local\\\\Temp\\\\tmpri48ruo1\\\\7_0d__1w.json', 'output', 'file=C:\\\\Users\\\\Ken\\\\AppData\\\\Local\\\\Temp\\\\tmpri48ruo1\\\\prophet_model4o43e4vw\\\\prophet_model-20250625184853.csv', 'method=optimize', 'algorithm=newton', 'iter=10000']\n",
      "18:48:53 - cmdstanpy - INFO - Chain [1] start processing\n",
      "INFO:cmdstanpy:Chain [1] start processing\n",
      "18:48:53 - cmdstanpy - INFO - Chain [1] done processing\n",
      "INFO:cmdstanpy:Chain [1] done processing\n"
     ]
    },
    {
     "data": {
      "text/plain": [
       "['Mango_arima_model.pkl']"
      ]
     },
     "execution_count": 10,
     "metadata": {},
     "output_type": "execute_result"
    },
    {
     "name": "stderr",
     "output_type": "stream",
     "text": [
      "DEBUG:cmdstanpy:cmd: where.exe tbb.dll\n",
      "cwd: None\n",
      "DEBUG:cmdstanpy:TBB already found in load path\n",
      "INFO:prophet:Disabling yearly seasonality. Run prophet with yearly_seasonality=True to override this.\n",
      "INFO:prophet:Disabling weekly seasonality. Run prophet with weekly_seasonality=True to override this.\n",
      "INFO:prophet:Disabling daily seasonality. Run prophet with daily_seasonality=True to override this.\n",
      "DEBUG:cmdstanpy:input tempfile: C:\\Users\\Ken\\AppData\\Local\\Temp\\tmpri48ruo1\\d4qjwvno.json\n",
      "DEBUG:cmdstanpy:input tempfile: C:\\Users\\Ken\\AppData\\Local\\Temp\\tmpri48ruo1\\vp9zh8oq.json\n",
      "DEBUG:cmdstanpy:idx 0\n",
      "DEBUG:cmdstanpy:running CmdStan, num_threads: None\n",
      "DEBUG:cmdstanpy:CmdStan args: ['C:\\\\Users\\\\Ken\\\\anaconda3\\\\Lib\\\\site-packages\\\\prophet\\\\stan_model\\\\prophet_model.bin', 'random', 'seed=33998', 'data', 'file=C:\\\\Users\\\\Ken\\\\AppData\\\\Local\\\\Temp\\\\tmpri48ruo1\\\\d4qjwvno.json', 'init=C:\\\\Users\\\\Ken\\\\AppData\\\\Local\\\\Temp\\\\tmpri48ruo1\\\\vp9zh8oq.json', 'output', 'file=C:\\\\Users\\\\Ken\\\\AppData\\\\Local\\\\Temp\\\\tmpri48ruo1\\\\prophet_modeltyiwr0tk\\\\prophet_model-20250625184859.csv', 'method=optimize', 'algorithm=newton', 'iter=10000']\n",
      "18:48:59 - cmdstanpy - INFO - Chain [1] start processing\n",
      "INFO:cmdstanpy:Chain [1] start processing\n",
      "18:48:59 - cmdstanpy - INFO - Chain [1] done processing\n",
      "INFO:cmdstanpy:Chain [1] done processing\n"
     ]
    },
    {
     "data": {
      "text/plain": [
       "['Shiro_arima_model.pkl']"
      ]
     },
     "execution_count": 10,
     "metadata": {},
     "output_type": "execute_result"
    },
    {
     "name": "stderr",
     "output_type": "stream",
     "text": [
      "DEBUG:cmdstanpy:cmd: where.exe tbb.dll\n",
      "cwd: None\n",
      "DEBUG:cmdstanpy:TBB already found in load path\n",
      "INFO:prophet:Disabling yearly seasonality. Run prophet with yearly_seasonality=True to override this.\n",
      "INFO:prophet:Disabling weekly seasonality. Run prophet with weekly_seasonality=True to override this.\n",
      "INFO:prophet:Disabling daily seasonality. Run prophet with daily_seasonality=True to override this.\n",
      "DEBUG:cmdstanpy:input tempfile: C:\\Users\\Ken\\AppData\\Local\\Temp\\tmpri48ruo1\\jejzid1c.json\n",
      "DEBUG:cmdstanpy:input tempfile: C:\\Users\\Ken\\AppData\\Local\\Temp\\tmpri48ruo1\\8or08361.json\n",
      "DEBUG:cmdstanpy:idx 0\n",
      "DEBUG:cmdstanpy:running CmdStan, num_threads: None\n",
      "DEBUG:cmdstanpy:CmdStan args: ['C:\\\\Users\\\\Ken\\\\anaconda3\\\\Lib\\\\site-packages\\\\prophet\\\\stan_model\\\\prophet_model.bin', 'random', 'seed=80351', 'data', 'file=C:\\\\Users\\\\Ken\\\\AppData\\\\Local\\\\Temp\\\\tmpri48ruo1\\\\jejzid1c.json', 'init=C:\\\\Users\\\\Ken\\\\AppData\\\\Local\\\\Temp\\\\tmpri48ruo1\\\\8or08361.json', 'output', 'file=C:\\\\Users\\\\Ken\\\\AppData\\\\Local\\\\Temp\\\\tmpri48ruo1\\\\prophet_modelec5_0qx0\\\\prophet_model-20250625184905.csv', 'method=optimize', 'algorithm=newton', 'iter=10000']\n",
      "18:49:05 - cmdstanpy - INFO - Chain [1] start processing\n",
      "INFO:cmdstanpy:Chain [1] start processing\n",
      "18:49:05 - cmdstanpy - INFO - Chain [1] done processing\n",
      "INFO:cmdstanpy:Chain [1] done processing\n"
     ]
    },
    {
     "data": {
      "text/plain": [
       "['Carrot_arima_model.pkl']"
      ]
     },
     "execution_count": 10,
     "metadata": {},
     "output_type": "execute_result"
    },
    {
     "name": "stderr",
     "output_type": "stream",
     "text": [
      "DEBUG:cmdstanpy:cmd: where.exe tbb.dll\n",
      "cwd: None\n",
      "DEBUG:cmdstanpy:TBB already found in load path\n",
      "INFO:prophet:Disabling yearly seasonality. Run prophet with yearly_seasonality=True to override this.\n",
      "INFO:prophet:Disabling weekly seasonality. Run prophet with weekly_seasonality=True to override this.\n",
      "INFO:prophet:Disabling daily seasonality. Run prophet with daily_seasonality=True to override this.\n",
      "DEBUG:cmdstanpy:input tempfile: C:\\Users\\Ken\\AppData\\Local\\Temp\\tmpri48ruo1\\js833ad4.json\n",
      "DEBUG:cmdstanpy:input tempfile: C:\\Users\\Ken\\AppData\\Local\\Temp\\tmpri48ruo1\\evprxdfl.json\n",
      "DEBUG:cmdstanpy:idx 0\n",
      "DEBUG:cmdstanpy:running CmdStan, num_threads: None\n",
      "DEBUG:cmdstanpy:CmdStan args: ['C:\\\\Users\\\\Ken\\\\anaconda3\\\\Lib\\\\site-packages\\\\prophet\\\\stan_model\\\\prophet_model.bin', 'random', 'seed=23162', 'data', 'file=C:\\\\Users\\\\Ken\\\\AppData\\\\Local\\\\Temp\\\\tmpri48ruo1\\\\js833ad4.json', 'init=C:\\\\Users\\\\Ken\\\\AppData\\\\Local\\\\Temp\\\\tmpri48ruo1\\\\evprxdfl.json', 'output', 'file=C:\\\\Users\\\\Ken\\\\AppData\\\\Local\\\\Temp\\\\tmpri48ruo1\\\\prophet_modele0wnen3g\\\\prophet_model-20250625184913.csv', 'method=optimize', 'algorithm=newton', 'iter=10000']\n",
      "18:49:13 - cmdstanpy - INFO - Chain [1] start processing\n",
      "INFO:cmdstanpy:Chain [1] start processing\n",
      "18:49:13 - cmdstanpy - INFO - Chain [1] done processing\n",
      "INFO:cmdstanpy:Chain [1] done processing\n"
     ]
    },
    {
     "data": {
      "text/plain": [
       "['Yogurt_arima_model.pkl']"
      ]
     },
     "execution_count": 10,
     "metadata": {},
     "output_type": "execute_result"
    },
    {
     "name": "stderr",
     "output_type": "stream",
     "text": [
      "DEBUG:cmdstanpy:cmd: where.exe tbb.dll\n",
      "cwd: None\n",
      "DEBUG:cmdstanpy:TBB already found in load path\n",
      "INFO:prophet:Disabling yearly seasonality. Run prophet with yearly_seasonality=True to override this.\n",
      "INFO:prophet:Disabling weekly seasonality. Run prophet with weekly_seasonality=True to override this.\n",
      "INFO:prophet:Disabling daily seasonality. Run prophet with daily_seasonality=True to override this.\n",
      "DEBUG:cmdstanpy:input tempfile: C:\\Users\\Ken\\AppData\\Local\\Temp\\tmpri48ruo1\\96tba2hl.json\n",
      "DEBUG:cmdstanpy:input tempfile: C:\\Users\\Ken\\AppData\\Local\\Temp\\tmpri48ruo1\\mjgt0i1t.json\n",
      "DEBUG:cmdstanpy:idx 0\n",
      "DEBUG:cmdstanpy:running CmdStan, num_threads: None\n",
      "DEBUG:cmdstanpy:CmdStan args: ['C:\\\\Users\\\\Ken\\\\anaconda3\\\\Lib\\\\site-packages\\\\prophet\\\\stan_model\\\\prophet_model.bin', 'random', 'seed=73313', 'data', 'file=C:\\\\Users\\\\Ken\\\\AppData\\\\Local\\\\Temp\\\\tmpri48ruo1\\\\96tba2hl.json', 'init=C:\\\\Users\\\\Ken\\\\AppData\\\\Local\\\\Temp\\\\tmpri48ruo1\\\\mjgt0i1t.json', 'output', 'file=C:\\\\Users\\\\Ken\\\\AppData\\\\Local\\\\Temp\\\\tmpri48ruo1\\\\prophet_model40bg_le3\\\\prophet_model-20250625184918.csv', 'method=optimize', 'algorithm=newton', 'iter=10000']\n",
      "18:49:18 - cmdstanpy - INFO - Chain [1] start processing\n",
      "INFO:cmdstanpy:Chain [1] start processing\n",
      "18:49:19 - cmdstanpy - INFO - Chain [1] done processing\n",
      "INFO:cmdstanpy:Chain [1] done processing\n"
     ]
    },
    {
     "data": {
      "text/plain": [
       "['Lentils_arima_model.pkl']"
      ]
     },
     "execution_count": 10,
     "metadata": {},
     "output_type": "execute_result"
    },
    {
     "name": "stderr",
     "output_type": "stream",
     "text": [
      "DEBUG:cmdstanpy:cmd: where.exe tbb.dll\n",
      "cwd: None\n",
      "DEBUG:cmdstanpy:TBB already found in load path\n",
      "INFO:prophet:Disabling yearly seasonality. Run prophet with yearly_seasonality=True to override this.\n",
      "INFO:prophet:Disabling weekly seasonality. Run prophet with weekly_seasonality=True to override this.\n",
      "INFO:prophet:Disabling daily seasonality. Run prophet with daily_seasonality=True to override this.\n",
      "DEBUG:cmdstanpy:input tempfile: C:\\Users\\Ken\\AppData\\Local\\Temp\\tmpri48ruo1\\4i88zi82.json\n",
      "DEBUG:cmdstanpy:input tempfile: C:\\Users\\Ken\\AppData\\Local\\Temp\\tmpri48ruo1\\426vf5hw.json\n",
      "DEBUG:cmdstanpy:idx 0\n",
      "DEBUG:cmdstanpy:running CmdStan, num_threads: None\n",
      "DEBUG:cmdstanpy:CmdStan args: ['C:\\\\Users\\\\Ken\\\\anaconda3\\\\Lib\\\\site-packages\\\\prophet\\\\stan_model\\\\prophet_model.bin', 'random', 'seed=71660', 'data', 'file=C:\\\\Users\\\\Ken\\\\AppData\\\\Local\\\\Temp\\\\tmpri48ruo1\\\\4i88zi82.json', 'init=C:\\\\Users\\\\Ken\\\\AppData\\\\Local\\\\Temp\\\\tmpri48ruo1\\\\426vf5hw.json', 'output', 'file=C:\\\\Users\\\\Ken\\\\AppData\\\\Local\\\\Temp\\\\tmpri48ruo1\\\\prophet_modelecvbo3vd\\\\prophet_model-20250625184924.csv', 'method=optimize', 'algorithm=newton', 'iter=10000']\n",
      "18:49:24 - cmdstanpy - INFO - Chain [1] start processing\n",
      "INFO:cmdstanpy:Chain [1] start processing\n",
      "18:49:24 - cmdstanpy - INFO - Chain [1] done processing\n",
      "INFO:cmdstanpy:Chain [1] done processing\n"
     ]
    },
    {
     "data": {
      "text/plain": [
       "['Spices_mix_arima_model.pkl']"
      ]
     },
     "execution_count": 10,
     "metadata": {},
     "output_type": "execute_result"
    },
    {
     "name": "stderr",
     "output_type": "stream",
     "text": [
      "DEBUG:cmdstanpy:cmd: where.exe tbb.dll\n",
      "cwd: None\n",
      "DEBUG:cmdstanpy:TBB already found in load path\n",
      "INFO:prophet:Disabling yearly seasonality. Run prophet with yearly_seasonality=True to override this.\n",
      "INFO:prophet:Disabling weekly seasonality. Run prophet with weekly_seasonality=True to override this.\n",
      "INFO:prophet:Disabling daily seasonality. Run prophet with daily_seasonality=True to override this.\n",
      "DEBUG:cmdstanpy:input tempfile: C:\\Users\\Ken\\AppData\\Local\\Temp\\tmpri48ruo1\\wp80gg8_.json\n",
      "DEBUG:cmdstanpy:input tempfile: C:\\Users\\Ken\\AppData\\Local\\Temp\\tmpri48ruo1\\dr5xyu9r.json\n",
      "DEBUG:cmdstanpy:idx 0\n",
      "DEBUG:cmdstanpy:running CmdStan, num_threads: None\n",
      "DEBUG:cmdstanpy:CmdStan args: ['C:\\\\Users\\\\Ken\\\\anaconda3\\\\Lib\\\\site-packages\\\\prophet\\\\stan_model\\\\prophet_model.bin', 'random', 'seed=39608', 'data', 'file=C:\\\\Users\\\\Ken\\\\AppData\\\\Local\\\\Temp\\\\tmpri48ruo1\\\\wp80gg8_.json', 'init=C:\\\\Users\\\\Ken\\\\AppData\\\\Local\\\\Temp\\\\tmpri48ruo1\\\\dr5xyu9r.json', 'output', 'file=C:\\\\Users\\\\Ken\\\\AppData\\\\Local\\\\Temp\\\\tmpri48ruo1\\\\prophet_modely_6sxhus\\\\prophet_model-20250625184929.csv', 'method=optimize', 'algorithm=newton', 'iter=10000']\n",
      "18:49:29 - cmdstanpy - INFO - Chain [1] start processing\n",
      "INFO:cmdstanpy:Chain [1] start processing\n",
      "18:49:30 - cmdstanpy - INFO - Chain [1] done processing\n",
      "INFO:cmdstanpy:Chain [1] done processing\n"
     ]
    },
    {
     "data": {
      "text/plain": [
       "['Orange_arima_model.pkl']"
      ]
     },
     "execution_count": 10,
     "metadata": {},
     "output_type": "execute_result"
    },
    {
     "name": "stderr",
     "output_type": "stream",
     "text": [
      "DEBUG:cmdstanpy:cmd: where.exe tbb.dll\n",
      "cwd: None\n",
      "DEBUG:cmdstanpy:TBB already found in load path\n",
      "INFO:prophet:Disabling yearly seasonality. Run prophet with yearly_seasonality=True to override this.\n",
      "INFO:prophet:Disabling weekly seasonality. Run prophet with weekly_seasonality=True to override this.\n",
      "INFO:prophet:Disabling daily seasonality. Run prophet with daily_seasonality=True to override this.\n",
      "DEBUG:cmdstanpy:input tempfile: C:\\Users\\Ken\\AppData\\Local\\Temp\\tmpri48ruo1\\0w6g9ayc.json\n",
      "DEBUG:cmdstanpy:input tempfile: C:\\Users\\Ken\\AppData\\Local\\Temp\\tmpri48ruo1\\mtonypp_.json\n",
      "DEBUG:cmdstanpy:idx 0\n",
      "DEBUG:cmdstanpy:running CmdStan, num_threads: None\n",
      "DEBUG:cmdstanpy:CmdStan args: ['C:\\\\Users\\\\Ken\\\\anaconda3\\\\Lib\\\\site-packages\\\\prophet\\\\stan_model\\\\prophet_model.bin', 'random', 'seed=41559', 'data', 'file=C:\\\\Users\\\\Ken\\\\AppData\\\\Local\\\\Temp\\\\tmpri48ruo1\\\\0w6g9ayc.json', 'init=C:\\\\Users\\\\Ken\\\\AppData\\\\Local\\\\Temp\\\\tmpri48ruo1\\\\mtonypp_.json', 'output', 'file=C:\\\\Users\\\\Ken\\\\AppData\\\\Local\\\\Temp\\\\tmpri48ruo1\\\\prophet_modelj1btcygo\\\\prophet_model-20250625184936.csv', 'method=optimize', 'algorithm=newton', 'iter=10000']\n",
      "18:49:36 - cmdstanpy - INFO - Chain [1] start processing\n",
      "INFO:cmdstanpy:Chain [1] start processing\n",
      "18:49:37 - cmdstanpy - INFO - Chain [1] done processing\n",
      "INFO:cmdstanpy:Chain [1] done processing\n"
     ]
    },
    {
     "data": {
      "text/plain": [
       "['Lemon_arima_model.pkl']"
      ]
     },
     "execution_count": 10,
     "metadata": {},
     "output_type": "execute_result"
    },
    {
     "name": "stderr",
     "output_type": "stream",
     "text": [
      "DEBUG:cmdstanpy:cmd: where.exe tbb.dll\n",
      "cwd: None\n",
      "DEBUG:cmdstanpy:TBB already found in load path\n",
      "INFO:prophet:Disabling yearly seasonality. Run prophet with yearly_seasonality=True to override this.\n",
      "INFO:prophet:Disabling weekly seasonality. Run prophet with weekly_seasonality=True to override this.\n",
      "INFO:prophet:Disabling daily seasonality. Run prophet with daily_seasonality=True to override this.\n",
      "DEBUG:cmdstanpy:input tempfile: C:\\Users\\Ken\\AppData\\Local\\Temp\\tmpri48ruo1\\obz2_3gf.json\n",
      "DEBUG:cmdstanpy:input tempfile: C:\\Users\\Ken\\AppData\\Local\\Temp\\tmpri48ruo1\\1xxj93cv.json\n",
      "DEBUG:cmdstanpy:idx 0\n",
      "DEBUG:cmdstanpy:running CmdStan, num_threads: None\n",
      "DEBUG:cmdstanpy:CmdStan args: ['C:\\\\Users\\\\Ken\\\\anaconda3\\\\Lib\\\\site-packages\\\\prophet\\\\stan_model\\\\prophet_model.bin', 'random', 'seed=83358', 'data', 'file=C:\\\\Users\\\\Ken\\\\AppData\\\\Local\\\\Temp\\\\tmpri48ruo1\\\\obz2_3gf.json', 'init=C:\\\\Users\\\\Ken\\\\AppData\\\\Local\\\\Temp\\\\tmpri48ruo1\\\\1xxj93cv.json', 'output', 'file=C:\\\\Users\\\\Ken\\\\AppData\\\\Local\\\\Temp\\\\tmpri48ruo1\\\\prophet_model_j0r3ytd\\\\prophet_model-20250625184944.csv', 'method=optimize', 'algorithm=newton', 'iter=10000']\n",
      "18:49:44 - cmdstanpy - INFO - Chain [1] start processing\n",
      "INFO:cmdstanpy:Chain [1] start processing\n",
      "18:49:45 - cmdstanpy - INFO - Chain [1] done processing\n",
      "INFO:cmdstanpy:Chain [1] done processing\n"
     ]
    },
    {
     "data": {
      "text/plain": [
       "['Salt_arima_model.pkl']"
      ]
     },
     "execution_count": 10,
     "metadata": {},
     "output_type": "execute_result"
    },
    {
     "name": "stderr",
     "output_type": "stream",
     "text": [
      "DEBUG:cmdstanpy:cmd: where.exe tbb.dll\n",
      "cwd: None\n",
      "DEBUG:cmdstanpy:TBB already found in load path\n",
      "INFO:prophet:Disabling yearly seasonality. Run prophet with yearly_seasonality=True to override this.\n",
      "INFO:prophet:Disabling weekly seasonality. Run prophet with weekly_seasonality=True to override this.\n",
      "INFO:prophet:Disabling daily seasonality. Run prophet with daily_seasonality=True to override this.\n",
      "DEBUG:cmdstanpy:input tempfile: C:\\Users\\Ken\\AppData\\Local\\Temp\\tmpri48ruo1\\y_j7arif.json\n",
      "DEBUG:cmdstanpy:input tempfile: C:\\Users\\Ken\\AppData\\Local\\Temp\\tmpri48ruo1\\9yw1tqq9.json\n",
      "DEBUG:cmdstanpy:idx 0\n",
      "DEBUG:cmdstanpy:running CmdStan, num_threads: None\n",
      "DEBUG:cmdstanpy:CmdStan args: ['C:\\\\Users\\\\Ken\\\\anaconda3\\\\Lib\\\\site-packages\\\\prophet\\\\stan_model\\\\prophet_model.bin', 'random', 'seed=68586', 'data', 'file=C:\\\\Users\\\\Ken\\\\AppData\\\\Local\\\\Temp\\\\tmpri48ruo1\\\\y_j7arif.json', 'init=C:\\\\Users\\\\Ken\\\\AppData\\\\Local\\\\Temp\\\\tmpri48ruo1\\\\9yw1tqq9.json', 'output', 'file=C:\\\\Users\\\\Ken\\\\AppData\\\\Local\\\\Temp\\\\tmpri48ruo1\\\\prophet_modelgkku27pu\\\\prophet_model-20250625184949.csv', 'method=optimize', 'algorithm=newton', 'iter=10000']\n",
      "18:49:49 - cmdstanpy - INFO - Chain [1] start processing\n",
      "INFO:cmdstanpy:Chain [1] start processing\n",
      "18:49:49 - cmdstanpy - INFO - Chain [1] done processing\n",
      "INFO:cmdstanpy:Chain [1] done processing\n"
     ]
    },
    {
     "data": {
      "text/plain": [
       "['Guava_arima_model.pkl']"
      ]
     },
     "execution_count": 10,
     "metadata": {},
     "output_type": "execute_result"
    },
    {
     "name": "stderr",
     "output_type": "stream",
     "text": [
      "DEBUG:cmdstanpy:cmd: where.exe tbb.dll\n",
      "cwd: None\n",
      "DEBUG:cmdstanpy:TBB already found in load path\n",
      "INFO:prophet:Disabling yearly seasonality. Run prophet with yearly_seasonality=True to override this.\n",
      "INFO:prophet:Disabling weekly seasonality. Run prophet with weekly_seasonality=True to override this.\n",
      "INFO:prophet:Disabling daily seasonality. Run prophet with daily_seasonality=True to override this.\n",
      "DEBUG:cmdstanpy:input tempfile: C:\\Users\\Ken\\AppData\\Local\\Temp\\tmpri48ruo1\\dijbl2aq.json\n",
      "DEBUG:cmdstanpy:input tempfile: C:\\Users\\Ken\\AppData\\Local\\Temp\\tmpri48ruo1\\o9eiwrou.json\n",
      "DEBUG:cmdstanpy:idx 0\n",
      "DEBUG:cmdstanpy:running CmdStan, num_threads: None\n",
      "DEBUG:cmdstanpy:CmdStan args: ['C:\\\\Users\\\\Ken\\\\anaconda3\\\\Lib\\\\site-packages\\\\prophet\\\\stan_model\\\\prophet_model.bin', 'random', 'seed=46115', 'data', 'file=C:\\\\Users\\\\Ken\\\\AppData\\\\Local\\\\Temp\\\\tmpri48ruo1\\\\dijbl2aq.json', 'init=C:\\\\Users\\\\Ken\\\\AppData\\\\Local\\\\Temp\\\\tmpri48ruo1\\\\o9eiwrou.json', 'output', 'file=C:\\\\Users\\\\Ken\\\\AppData\\\\Local\\\\Temp\\\\tmpri48ruo1\\\\prophet_modelrxtgqtjp\\\\prophet_model-20250625184956.csv', 'method=optimize', 'algorithm=newton', 'iter=10000']\n",
      "18:49:56 - cmdstanpy - INFO - Chain [1] start processing\n",
      "INFO:cmdstanpy:Chain [1] start processing\n",
      "18:49:57 - cmdstanpy - INFO - Chain [1] done processing\n",
      "INFO:cmdstanpy:Chain [1] done processing\n"
     ]
    },
    {
     "data": {
      "text/plain": [
       "['Eggs_arima_model.pkl']"
      ]
     },
     "execution_count": 10,
     "metadata": {},
     "output_type": "execute_result"
    },
    {
     "name": "stderr",
     "output_type": "stream",
     "text": [
      "DEBUG:cmdstanpy:cmd: where.exe tbb.dll\n",
      "cwd: None\n",
      "DEBUG:cmdstanpy:TBB already found in load path\n",
      "INFO:prophet:Disabling yearly seasonality. Run prophet with yearly_seasonality=True to override this.\n",
      "INFO:prophet:Disabling weekly seasonality. Run prophet with weekly_seasonality=True to override this.\n",
      "INFO:prophet:Disabling daily seasonality. Run prophet with daily_seasonality=True to override this.\n",
      "DEBUG:cmdstanpy:input tempfile: C:\\Users\\Ken\\AppData\\Local\\Temp\\tmpri48ruo1\\zm8vzjmr.json\n",
      "DEBUG:cmdstanpy:input tempfile: C:\\Users\\Ken\\AppData\\Local\\Temp\\tmpri48ruo1\\lgtdzxzo.json\n",
      "DEBUG:cmdstanpy:idx 0\n",
      "DEBUG:cmdstanpy:running CmdStan, num_threads: None\n",
      "DEBUG:cmdstanpy:CmdStan args: ['C:\\\\Users\\\\Ken\\\\anaconda3\\\\Lib\\\\site-packages\\\\prophet\\\\stan_model\\\\prophet_model.bin', 'random', 'seed=8283', 'data', 'file=C:\\\\Users\\\\Ken\\\\AppData\\\\Local\\\\Temp\\\\tmpri48ruo1\\\\zm8vzjmr.json', 'init=C:\\\\Users\\\\Ken\\\\AppData\\\\Local\\\\Temp\\\\tmpri48ruo1\\\\lgtdzxzo.json', 'output', 'file=C:\\\\Users\\\\Ken\\\\AppData\\\\Local\\\\Temp\\\\tmpri48ruo1\\\\prophet_modelw09cdehk\\\\prophet_model-20250625185003.csv', 'method=optimize', 'algorithm=newton', 'iter=10000']\n",
      "18:50:03 - cmdstanpy - INFO - Chain [1] start processing\n",
      "INFO:cmdstanpy:Chain [1] start processing\n",
      "18:50:03 - cmdstanpy - INFO - Chain [1] done processing\n",
      "INFO:cmdstanpy:Chain [1] done processing\n"
     ]
    },
    {
     "data": {
      "text/plain": [
       "['Powdered_milk_arima_model.pkl']"
      ]
     },
     "execution_count": 10,
     "metadata": {},
     "output_type": "execute_result"
    },
    {
     "name": "stderr",
     "output_type": "stream",
     "text": [
      "DEBUG:cmdstanpy:cmd: where.exe tbb.dll\n",
      "cwd: None\n",
      "DEBUG:cmdstanpy:TBB already found in load path\n",
      "INFO:prophet:Disabling yearly seasonality. Run prophet with yearly_seasonality=True to override this.\n",
      "INFO:prophet:Disabling weekly seasonality. Run prophet with weekly_seasonality=True to override this.\n",
      "INFO:prophet:Disabling daily seasonality. Run prophet with daily_seasonality=True to override this.\n",
      "DEBUG:cmdstanpy:input tempfile: C:\\Users\\Ken\\AppData\\Local\\Temp\\tmpri48ruo1\\s85i5f_y.json\n",
      "DEBUG:cmdstanpy:input tempfile: C:\\Users\\Ken\\AppData\\Local\\Temp\\tmpri48ruo1\\agkuqe8j.json\n",
      "DEBUG:cmdstanpy:idx 0\n",
      "DEBUG:cmdstanpy:running CmdStan, num_threads: None\n",
      "DEBUG:cmdstanpy:CmdStan args: ['C:\\\\Users\\\\Ken\\\\anaconda3\\\\Lib\\\\site-packages\\\\prophet\\\\stan_model\\\\prophet_model.bin', 'random', 'seed=24146', 'data', 'file=C:\\\\Users\\\\Ken\\\\AppData\\\\Local\\\\Temp\\\\tmpri48ruo1\\\\s85i5f_y.json', 'init=C:\\\\Users\\\\Ken\\\\AppData\\\\Local\\\\Temp\\\\tmpri48ruo1\\\\agkuqe8j.json', 'output', 'file=C:\\\\Users\\\\Ken\\\\AppData\\\\Local\\\\Temp\\\\tmpri48ruo1\\\\prophet_modelicdy5756\\\\prophet_model-20250625185012.csv', 'method=optimize', 'algorithm=newton', 'iter=10000']\n",
      "18:50:12 - cmdstanpy - INFO - Chain [1] start processing\n",
      "INFO:cmdstanpy:Chain [1] start processing\n",
      "18:50:13 - cmdstanpy - INFO - Chain [1] done processing\n",
      "INFO:cmdstanpy:Chain [1] done processing\n"
     ]
    },
    {
     "data": {
      "text/plain": [
       "['Kale_(Gomen)_arima_model.pkl']"
      ]
     },
     "execution_count": 10,
     "metadata": {},
     "output_type": "execute_result"
    },
    {
     "name": "stderr",
     "output_type": "stream",
     "text": [
      "DEBUG:cmdstanpy:cmd: where.exe tbb.dll\n",
      "cwd: None\n",
      "DEBUG:cmdstanpy:TBB already found in load path\n",
      "INFO:prophet:Disabling yearly seasonality. Run prophet with yearly_seasonality=True to override this.\n",
      "INFO:prophet:Disabling weekly seasonality. Run prophet with weekly_seasonality=True to override this.\n",
      "INFO:prophet:Disabling daily seasonality. Run prophet with daily_seasonality=True to override this.\n",
      "DEBUG:cmdstanpy:input tempfile: C:\\Users\\Ken\\AppData\\Local\\Temp\\tmpri48ruo1\\df6klvpw.json\n",
      "DEBUG:cmdstanpy:input tempfile: C:\\Users\\Ken\\AppData\\Local\\Temp\\tmpri48ruo1\\vy_rxn4_.json\n",
      "DEBUG:cmdstanpy:idx 0\n",
      "DEBUG:cmdstanpy:running CmdStan, num_threads: None\n",
      "DEBUG:cmdstanpy:CmdStan args: ['C:\\\\Users\\\\Ken\\\\anaconda3\\\\Lib\\\\site-packages\\\\prophet\\\\stan_model\\\\prophet_model.bin', 'random', 'seed=12040', 'data', 'file=C:\\\\Users\\\\Ken\\\\AppData\\\\Local\\\\Temp\\\\tmpri48ruo1\\\\df6klvpw.json', 'init=C:\\\\Users\\\\Ken\\\\AppData\\\\Local\\\\Temp\\\\tmpri48ruo1\\\\vy_rxn4_.json', 'output', 'file=C:\\\\Users\\\\Ken\\\\AppData\\\\Local\\\\Temp\\\\tmpri48ruo1\\\\prophet_modelsfkc2qj4\\\\prophet_model-20250625185019.csv', 'method=optimize', 'algorithm=newton', 'iter=10000']\n",
      "18:50:19 - cmdstanpy - INFO - Chain [1] start processing\n",
      "INFO:cmdstanpy:Chain [1] start processing\n",
      "18:50:20 - cmdstanpy - INFO - Chain [1] done processing\n",
      "INFO:cmdstanpy:Chain [1] done processing\n"
     ]
    },
    {
     "data": {
      "text/plain": [
       "['Flour_(wheat)_arima_model.pkl']"
      ]
     },
     "execution_count": 10,
     "metadata": {},
     "output_type": "execute_result"
    },
    {
     "name": "stderr",
     "output_type": "stream",
     "text": [
      "DEBUG:cmdstanpy:cmd: where.exe tbb.dll\n",
      "cwd: None\n",
      "DEBUG:cmdstanpy:TBB already found in load path\n",
      "INFO:prophet:Disabling yearly seasonality. Run prophet with yearly_seasonality=True to override this.\n",
      "INFO:prophet:Disabling weekly seasonality. Run prophet with weekly_seasonality=True to override this.\n",
      "INFO:prophet:Disabling daily seasonality. Run prophet with daily_seasonality=True to override this.\n",
      "DEBUG:cmdstanpy:input tempfile: C:\\Users\\Ken\\AppData\\Local\\Temp\\tmpri48ruo1\\572j9ib7.json\n",
      "DEBUG:cmdstanpy:input tempfile: C:\\Users\\Ken\\AppData\\Local\\Temp\\tmpri48ruo1\\p4s8a5p6.json\n",
      "DEBUG:cmdstanpy:idx 0\n",
      "DEBUG:cmdstanpy:running CmdStan, num_threads: None\n",
      "DEBUG:cmdstanpy:CmdStan args: ['C:\\\\Users\\\\Ken\\\\anaconda3\\\\Lib\\\\site-packages\\\\prophet\\\\stan_model\\\\prophet_model.bin', 'random', 'seed=29925', 'data', 'file=C:\\\\Users\\\\Ken\\\\AppData\\\\Local\\\\Temp\\\\tmpri48ruo1\\\\572j9ib7.json', 'init=C:\\\\Users\\\\Ken\\\\AppData\\\\Local\\\\Temp\\\\tmpri48ruo1\\\\p4s8a5p6.json', 'output', 'file=C:\\\\Users\\\\Ken\\\\AppData\\\\Local\\\\Temp\\\\tmpri48ruo1\\\\prophet_modelhc580xee\\\\prophet_model-20250625185026.csv', 'method=optimize', 'algorithm=newton', 'iter=10000']\n",
      "18:50:26 - cmdstanpy - INFO - Chain [1] start processing\n",
      "INFO:cmdstanpy:Chain [1] start processing\n",
      "18:50:26 - cmdstanpy - INFO - Chain [1] done processing\n",
      "INFO:cmdstanpy:Chain [1] done processing\n"
     ]
    },
    {
     "data": {
      "text/plain": [
       "['Pepper_powder_arima_model.pkl']"
      ]
     },
     "execution_count": 10,
     "metadata": {},
     "output_type": "execute_result"
    },
    {
     "name": "stderr",
     "output_type": "stream",
     "text": [
      "DEBUG:cmdstanpy:cmd: where.exe tbb.dll\n",
      "cwd: None\n",
      "DEBUG:cmdstanpy:TBB already found in load path\n",
      "INFO:prophet:Disabling yearly seasonality. Run prophet with yearly_seasonality=True to override this.\n",
      "INFO:prophet:Disabling weekly seasonality. Run prophet with weekly_seasonality=True to override this.\n",
      "INFO:prophet:Disabling daily seasonality. Run prophet with daily_seasonality=True to override this.\n",
      "DEBUG:cmdstanpy:input tempfile: C:\\Users\\Ken\\AppData\\Local\\Temp\\tmpri48ruo1\\uqxjg2ug.json\n",
      "DEBUG:cmdstanpy:input tempfile: C:\\Users\\Ken\\AppData\\Local\\Temp\\tmpri48ruo1\\iui_pf2c.json\n",
      "DEBUG:cmdstanpy:idx 0\n",
      "DEBUG:cmdstanpy:running CmdStan, num_threads: None\n",
      "DEBUG:cmdstanpy:CmdStan args: ['C:\\\\Users\\\\Ken\\\\anaconda3\\\\Lib\\\\site-packages\\\\prophet\\\\stan_model\\\\prophet_model.bin', 'random', 'seed=47748', 'data', 'file=C:\\\\Users\\\\Ken\\\\AppData\\\\Local\\\\Temp\\\\tmpri48ruo1\\\\uqxjg2ug.json', 'init=C:\\\\Users\\\\Ken\\\\AppData\\\\Local\\\\Temp\\\\tmpri48ruo1\\\\iui_pf2c.json', 'output', 'file=C:\\\\Users\\\\Ken\\\\AppData\\\\Local\\\\Temp\\\\tmpri48ruo1\\\\prophet_modelr740_n9y\\\\prophet_model-20250625185032.csv', 'method=optimize', 'algorithm=newton', 'iter=10000']\n",
      "18:50:32 - cmdstanpy - INFO - Chain [1] start processing\n",
      "INFO:cmdstanpy:Chain [1] start processing\n",
      "18:50:32 - cmdstanpy - INFO - Chain [1] done processing\n",
      "INFO:cmdstanpy:Chain [1] done processing\n"
     ]
    },
    {
     "data": {
      "text/plain": [
       "['Wheat_arima_model.pkl']"
      ]
     },
     "execution_count": 10,
     "metadata": {},
     "output_type": "execute_result"
    },
    {
     "name": "stderr",
     "output_type": "stream",
     "text": [
      "DEBUG:cmdstanpy:cmd: where.exe tbb.dll\n",
      "cwd: None\n",
      "DEBUG:cmdstanpy:TBB already found in load path\n",
      "INFO:prophet:Disabling yearly seasonality. Run prophet with yearly_seasonality=True to override this.\n",
      "INFO:prophet:Disabling weekly seasonality. Run prophet with weekly_seasonality=True to override this.\n",
      "INFO:prophet:Disabling daily seasonality. Run prophet with daily_seasonality=True to override this.\n",
      "DEBUG:cmdstanpy:input tempfile: C:\\Users\\Ken\\AppData\\Local\\Temp\\tmpri48ruo1\\knqjbg49.json\n",
      "DEBUG:cmdstanpy:input tempfile: C:\\Users\\Ken\\AppData\\Local\\Temp\\tmpri48ruo1\\b7pf0ht1.json\n",
      "DEBUG:cmdstanpy:idx 0\n",
      "DEBUG:cmdstanpy:running CmdStan, num_threads: None\n",
      "DEBUG:cmdstanpy:CmdStan args: ['C:\\\\Users\\\\Ken\\\\anaconda3\\\\Lib\\\\site-packages\\\\prophet\\\\stan_model\\\\prophet_model.bin', 'random', 'seed=19007', 'data', 'file=C:\\\\Users\\\\Ken\\\\AppData\\\\Local\\\\Temp\\\\tmpri48ruo1\\\\knqjbg49.json', 'init=C:\\\\Users\\\\Ken\\\\AppData\\\\Local\\\\Temp\\\\tmpri48ruo1\\\\b7pf0ht1.json', 'output', 'file=C:\\\\Users\\\\Ken\\\\AppData\\\\Local\\\\Temp\\\\tmpri48ruo1\\\\prophet_model1f9u5bqt\\\\prophet_model-20250625185040.csv', 'method=optimize', 'algorithm=newton', 'iter=10000']\n",
      "18:50:40 - cmdstanpy - INFO - Chain [1] start processing\n",
      "INFO:cmdstanpy:Chain [1] start processing\n",
      "18:50:40 - cmdstanpy - INFO - Chain [1] done processing\n",
      "INFO:cmdstanpy:Chain [1] done processing\n"
     ]
    },
    {
     "data": {
      "text/plain": [
       "['Teff_(red)_arima_model.pkl']"
      ]
     },
     "execution_count": 10,
     "metadata": {},
     "output_type": "execute_result"
    },
    {
     "name": "stderr",
     "output_type": "stream",
     "text": [
      "DEBUG:cmdstanpy:cmd: where.exe tbb.dll\n",
      "cwd: None\n",
      "DEBUG:cmdstanpy:TBB already found in load path\n",
      "INFO:prophet:Disabling yearly seasonality. Run prophet with yearly_seasonality=True to override this.\n",
      "INFO:prophet:Disabling weekly seasonality. Run prophet with weekly_seasonality=True to override this.\n",
      "INFO:prophet:Disabling daily seasonality. Run prophet with daily_seasonality=True to override this.\n",
      "DEBUG:cmdstanpy:input tempfile: C:\\Users\\Ken\\AppData\\Local\\Temp\\tmpri48ruo1\\vn301x4v.json\n",
      "DEBUG:cmdstanpy:input tempfile: C:\\Users\\Ken\\AppData\\Local\\Temp\\tmpri48ruo1\\6nrn9_de.json\n",
      "DEBUG:cmdstanpy:idx 0\n",
      "DEBUG:cmdstanpy:running CmdStan, num_threads: None\n",
      "DEBUG:cmdstanpy:CmdStan args: ['C:\\\\Users\\\\Ken\\\\anaconda3\\\\Lib\\\\site-packages\\\\prophet\\\\stan_model\\\\prophet_model.bin', 'random', 'seed=18032', 'data', 'file=C:\\\\Users\\\\Ken\\\\AppData\\\\Local\\\\Temp\\\\tmpri48ruo1\\\\vn301x4v.json', 'init=C:\\\\Users\\\\Ken\\\\AppData\\\\Local\\\\Temp\\\\tmpri48ruo1\\\\6nrn9_de.json', 'output', 'file=C:\\\\Users\\\\Ken\\\\AppData\\\\Local\\\\Temp\\\\tmpri48ruo1\\\\prophet_model1oavdzjd\\\\prophet_model-20250625185047.csv', 'method=optimize', 'algorithm=newton', 'iter=10000']\n",
      "18:50:47 - cmdstanpy - INFO - Chain [1] start processing\n",
      "INFO:cmdstanpy:Chain [1] start processing\n",
      "18:50:47 - cmdstanpy - INFO - Chain [1] done processing\n",
      "INFO:cmdstanpy:Chain [1] done processing\n"
     ]
    },
    {
     "data": {
      "text/plain": [
       "['Tomato_arima_model.pkl']"
      ]
     },
     "execution_count": 10,
     "metadata": {},
     "output_type": "execute_result"
    },
    {
     "name": "stderr",
     "output_type": "stream",
     "text": [
      "DEBUG:cmdstanpy:cmd: where.exe tbb.dll\n",
      "cwd: None\n",
      "DEBUG:cmdstanpy:TBB already found in load path\n",
      "INFO:prophet:Disabling yearly seasonality. Run prophet with yearly_seasonality=True to override this.\n",
      "INFO:prophet:Disabling weekly seasonality. Run prophet with weekly_seasonality=True to override this.\n",
      "INFO:prophet:Disabling daily seasonality. Run prophet with daily_seasonality=True to override this.\n",
      "DEBUG:cmdstanpy:input tempfile: C:\\Users\\Ken\\AppData\\Local\\Temp\\tmpri48ruo1\\cv94ydg3.json\n",
      "DEBUG:cmdstanpy:input tempfile: C:\\Users\\Ken\\AppData\\Local\\Temp\\tmpri48ruo1\\fdj1u122.json\n",
      "DEBUG:cmdstanpy:idx 0\n",
      "DEBUG:cmdstanpy:running CmdStan, num_threads: None\n",
      "DEBUG:cmdstanpy:CmdStan args: ['C:\\\\Users\\\\Ken\\\\anaconda3\\\\Lib\\\\site-packages\\\\prophet\\\\stan_model\\\\prophet_model.bin', 'random', 'seed=16373', 'data', 'file=C:\\\\Users\\\\Ken\\\\AppData\\\\Local\\\\Temp\\\\tmpri48ruo1\\\\cv94ydg3.json', 'init=C:\\\\Users\\\\Ken\\\\AppData\\\\Local\\\\Temp\\\\tmpri48ruo1\\\\fdj1u122.json', 'output', 'file=C:\\\\Users\\\\Ken\\\\AppData\\\\Local\\\\Temp\\\\tmpri48ruo1\\\\prophet_modelsb5wprhe\\\\prophet_model-20250625185051.csv', 'method=optimize', 'algorithm=newton', 'iter=10000']\n",
      "18:50:51 - cmdstanpy - INFO - Chain [1] start processing\n",
      "INFO:cmdstanpy:Chain [1] start processing\n",
      "18:50:51 - cmdstanpy - INFO - Chain [1] done processing\n",
      "INFO:cmdstanpy:Chain [1] done processing\n"
     ]
    },
    {
     "data": {
      "text/plain": [
       "['Coffee_(roasted)_arima_model.pkl']"
      ]
     },
     "execution_count": 10,
     "metadata": {},
     "output_type": "execute_result"
    },
    {
     "name": "stderr",
     "output_type": "stream",
     "text": [
      "DEBUG:cmdstanpy:cmd: where.exe tbb.dll\n",
      "cwd: None\n",
      "DEBUG:cmdstanpy:TBB already found in load path\n",
      "INFO:prophet:Disabling yearly seasonality. Run prophet with yearly_seasonality=True to override this.\n",
      "INFO:prophet:Disabling weekly seasonality. Run prophet with weekly_seasonality=True to override this.\n",
      "INFO:prophet:Disabling daily seasonality. Run prophet with daily_seasonality=True to override this.\n",
      "DEBUG:cmdstanpy:input tempfile: C:\\Users\\Ken\\AppData\\Local\\Temp\\tmpri48ruo1\\xw9z2hux.json\n",
      "DEBUG:cmdstanpy:input tempfile: C:\\Users\\Ken\\AppData\\Local\\Temp\\tmpri48ruo1\\gavhr1ai.json\n",
      "DEBUG:cmdstanpy:idx 0\n",
      "DEBUG:cmdstanpy:running CmdStan, num_threads: None\n",
      "DEBUG:cmdstanpy:CmdStan args: ['C:\\\\Users\\\\Ken\\\\anaconda3\\\\Lib\\\\site-packages\\\\prophet\\\\stan_model\\\\prophet_model.bin', 'random', 'seed=36656', 'data', 'file=C:\\\\Users\\\\Ken\\\\AppData\\\\Local\\\\Temp\\\\tmpri48ruo1\\\\xw9z2hux.json', 'init=C:\\\\Users\\\\Ken\\\\AppData\\\\Local\\\\Temp\\\\tmpri48ruo1\\\\gavhr1ai.json', 'output', 'file=C:\\\\Users\\\\Ken\\\\AppData\\\\Local\\\\Temp\\\\tmpri48ruo1\\\\prophet_modeljh7t9432\\\\prophet_model-20250625185057.csv', 'method=optimize', 'algorithm=newton', 'iter=10000']\n",
      "18:50:57 - cmdstanpy - INFO - Chain [1] start processing\n",
      "INFO:cmdstanpy:Chain [1] start processing\n",
      "18:50:58 - cmdstanpy - INFO - Chain [1] done processing\n",
      "INFO:cmdstanpy:Chain [1] done processing\n"
     ]
    },
    {
     "data": {
      "text/plain": [
       "['Avocado_arima_model.pkl']"
      ]
     },
     "execution_count": 10,
     "metadata": {},
     "output_type": "execute_result"
    },
    {
     "name": "stderr",
     "output_type": "stream",
     "text": [
      "DEBUG:cmdstanpy:cmd: where.exe tbb.dll\n",
      "cwd: None\n",
      "DEBUG:cmdstanpy:TBB already found in load path\n",
      "INFO:prophet:Disabling yearly seasonality. Run prophet with yearly_seasonality=True to override this.\n",
      "INFO:prophet:Disabling weekly seasonality. Run prophet with weekly_seasonality=True to override this.\n",
      "INFO:prophet:Disabling daily seasonality. Run prophet with daily_seasonality=True to override this.\n",
      "DEBUG:cmdstanpy:input tempfile: C:\\Users\\Ken\\AppData\\Local\\Temp\\tmpri48ruo1\\aup10534.json\n",
      "DEBUG:cmdstanpy:input tempfile: C:\\Users\\Ken\\AppData\\Local\\Temp\\tmpri48ruo1\\gi5y6lha.json\n",
      "DEBUG:cmdstanpy:idx 0\n",
      "DEBUG:cmdstanpy:running CmdStan, num_threads: None\n",
      "DEBUG:cmdstanpy:CmdStan args: ['C:\\\\Users\\\\Ken\\\\anaconda3\\\\Lib\\\\site-packages\\\\prophet\\\\stan_model\\\\prophet_model.bin', 'random', 'seed=25831', 'data', 'file=C:\\\\Users\\\\Ken\\\\AppData\\\\Local\\\\Temp\\\\tmpri48ruo1\\\\aup10534.json', 'init=C:\\\\Users\\\\Ken\\\\AppData\\\\Local\\\\Temp\\\\tmpri48ruo1\\\\gi5y6lha.json', 'output', 'file=C:\\\\Users\\\\Ken\\\\AppData\\\\Local\\\\Temp\\\\tmpri48ruo1\\\\prophet_model3m8zdyh9\\\\prophet_model-20250625185103.csv', 'method=optimize', 'algorithm=newton', 'iter=10000']\n",
      "18:51:03 - cmdstanpy - INFO - Chain [1] start processing\n",
      "INFO:cmdstanpy:Chain [1] start processing\n",
      "18:51:03 - cmdstanpy - INFO - Chain [1] done processing\n",
      "INFO:cmdstanpy:Chain [1] done processing\n"
     ]
    },
    {
     "data": {
      "text/plain": [
       "['Oats_arima_model.pkl']"
      ]
     },
     "execution_count": 10,
     "metadata": {},
     "output_type": "execute_result"
    },
    {
     "name": "stderr",
     "output_type": "stream",
     "text": [
      "DEBUG:cmdstanpy:cmd: where.exe tbb.dll\n",
      "cwd: None\n",
      "DEBUG:cmdstanpy:TBB already found in load path\n",
      "INFO:prophet:Disabling yearly seasonality. Run prophet with yearly_seasonality=True to override this.\n",
      "INFO:prophet:Disabling weekly seasonality. Run prophet with weekly_seasonality=True to override this.\n",
      "INFO:prophet:Disabling daily seasonality. Run prophet with daily_seasonality=True to override this.\n",
      "DEBUG:cmdstanpy:input tempfile: C:\\Users\\Ken\\AppData\\Local\\Temp\\tmpri48ruo1\\yg1620dt.json\n",
      "DEBUG:cmdstanpy:input tempfile: C:\\Users\\Ken\\AppData\\Local\\Temp\\tmpri48ruo1\\i10fypmr.json\n",
      "DEBUG:cmdstanpy:idx 0\n",
      "DEBUG:cmdstanpy:running CmdStan, num_threads: None\n",
      "DEBUG:cmdstanpy:CmdStan args: ['C:\\\\Users\\\\Ken\\\\anaconda3\\\\Lib\\\\site-packages\\\\prophet\\\\stan_model\\\\prophet_model.bin', 'random', 'seed=40565', 'data', 'file=C:\\\\Users\\\\Ken\\\\AppData\\\\Local\\\\Temp\\\\tmpri48ruo1\\\\yg1620dt.json', 'init=C:\\\\Users\\\\Ken\\\\AppData\\\\Local\\\\Temp\\\\tmpri48ruo1\\\\i10fypmr.json', 'output', 'file=C:\\\\Users\\\\Ken\\\\AppData\\\\Local\\\\Temp\\\\tmpri48ruo1\\\\prophet_modelfqiq081t\\\\prophet_model-20250625185110.csv', 'method=optimize', 'algorithm=newton', 'iter=10000']\n",
      "18:51:10 - cmdstanpy - INFO - Chain [1] start processing\n",
      "INFO:cmdstanpy:Chain [1] start processing\n",
      "18:51:10 - cmdstanpy - INFO - Chain [1] done processing\n",
      "INFO:cmdstanpy:Chain [1] done processing\n"
     ]
    },
    {
     "data": {
      "text/plain": [
       "['Mutton_arima_model.pkl']"
      ]
     },
     "execution_count": 10,
     "metadata": {},
     "output_type": "execute_result"
    },
    {
     "name": "stderr",
     "output_type": "stream",
     "text": [
      "DEBUG:cmdstanpy:cmd: where.exe tbb.dll\n",
      "cwd: None\n",
      "DEBUG:cmdstanpy:TBB already found in load path\n",
      "INFO:prophet:Disabling yearly seasonality. Run prophet with yearly_seasonality=True to override this.\n",
      "INFO:prophet:Disabling weekly seasonality. Run prophet with weekly_seasonality=True to override this.\n",
      "INFO:prophet:Disabling daily seasonality. Run prophet with daily_seasonality=True to override this.\n",
      "DEBUG:cmdstanpy:input tempfile: C:\\Users\\Ken\\AppData\\Local\\Temp\\tmpri48ruo1\\dmt83pz7.json\n",
      "DEBUG:cmdstanpy:input tempfile: C:\\Users\\Ken\\AppData\\Local\\Temp\\tmpri48ruo1\\mdv0dni3.json\n",
      "DEBUG:cmdstanpy:idx 0\n",
      "DEBUG:cmdstanpy:running CmdStan, num_threads: None\n",
      "DEBUG:cmdstanpy:CmdStan args: ['C:\\\\Users\\\\Ken\\\\anaconda3\\\\Lib\\\\site-packages\\\\prophet\\\\stan_model\\\\prophet_model.bin', 'random', 'seed=30326', 'data', 'file=C:\\\\Users\\\\Ken\\\\AppData\\\\Local\\\\Temp\\\\tmpri48ruo1\\\\dmt83pz7.json', 'init=C:\\\\Users\\\\Ken\\\\AppData\\\\Local\\\\Temp\\\\tmpri48ruo1\\\\mdv0dni3.json', 'output', 'file=C:\\\\Users\\\\Ken\\\\AppData\\\\Local\\\\Temp\\\\tmpri48ruo1\\\\prophet_modeljeuaexww\\\\prophet_model-20250625185117.csv', 'method=optimize', 'algorithm=newton', 'iter=10000']\n",
      "18:51:17 - cmdstanpy - INFO - Chain [1] start processing\n",
      "INFO:cmdstanpy:Chain [1] start processing\n",
      "18:51:17 - cmdstanpy - INFO - Chain [1] done processing\n",
      "INFO:cmdstanpy:Chain [1] done processing\n"
     ]
    },
    {
     "data": {
      "text/plain": [
       "['Roasted_grains_arima_model.pkl']"
      ]
     },
     "execution_count": 10,
     "metadata": {},
     "output_type": "execute_result"
    },
    {
     "name": "stderr",
     "output_type": "stream",
     "text": [
      "DEBUG:cmdstanpy:cmd: where.exe tbb.dll\n",
      "cwd: None\n",
      "DEBUG:cmdstanpy:TBB already found in load path\n",
      "INFO:prophet:Disabling yearly seasonality. Run prophet with yearly_seasonality=True to override this.\n",
      "INFO:prophet:Disabling weekly seasonality. Run prophet with weekly_seasonality=True to override this.\n",
      "INFO:prophet:Disabling daily seasonality. Run prophet with daily_seasonality=True to override this.\n",
      "DEBUG:cmdstanpy:input tempfile: C:\\Users\\Ken\\AppData\\Local\\Temp\\tmpri48ruo1\\9r8b9rn9.json\n",
      "DEBUG:cmdstanpy:input tempfile: C:\\Users\\Ken\\AppData\\Local\\Temp\\tmpri48ruo1\\61qypje0.json\n",
      "DEBUG:cmdstanpy:idx 0\n",
      "DEBUG:cmdstanpy:running CmdStan, num_threads: None\n",
      "DEBUG:cmdstanpy:CmdStan args: ['C:\\\\Users\\\\Ken\\\\anaconda3\\\\Lib\\\\site-packages\\\\prophet\\\\stan_model\\\\prophet_model.bin', 'random', 'seed=61069', 'data', 'file=C:\\\\Users\\\\Ken\\\\AppData\\\\Local\\\\Temp\\\\tmpri48ruo1\\\\9r8b9rn9.json', 'init=C:\\\\Users\\\\Ken\\\\AppData\\\\Local\\\\Temp\\\\tmpri48ruo1\\\\61qypje0.json', 'output', 'file=C:\\\\Users\\\\Ken\\\\AppData\\\\Local\\\\Temp\\\\tmpri48ruo1\\\\prophet_model4j8kc2x5\\\\prophet_model-20250625185121.csv', 'method=optimize', 'algorithm=newton', 'iter=10000']\n",
      "18:51:21 - cmdstanpy - INFO - Chain [1] start processing\n",
      "INFO:cmdstanpy:Chain [1] start processing\n",
      "18:51:22 - cmdstanpy - INFO - Chain [1] done processing\n",
      "INFO:cmdstanpy:Chain [1] done processing\n"
     ]
    },
    {
     "data": {
      "text/plain": [
       "['Potato_arima_model.pkl']"
      ]
     },
     "execution_count": 10,
     "metadata": {},
     "output_type": "execute_result"
    },
    {
     "name": "stderr",
     "output_type": "stream",
     "text": [
      "DEBUG:cmdstanpy:cmd: where.exe tbb.dll\n",
      "cwd: None\n",
      "DEBUG:cmdstanpy:TBB already found in load path\n",
      "INFO:prophet:Disabling yearly seasonality. Run prophet with yearly_seasonality=True to override this.\n",
      "INFO:prophet:Disabling weekly seasonality. Run prophet with weekly_seasonality=True to override this.\n",
      "INFO:prophet:Disabling daily seasonality. Run prophet with daily_seasonality=True to override this.\n",
      "DEBUG:cmdstanpy:input tempfile: C:\\Users\\Ken\\AppData\\Local\\Temp\\tmpri48ruo1\\g13nbd0v.json\n",
      "DEBUG:cmdstanpy:input tempfile: C:\\Users\\Ken\\AppData\\Local\\Temp\\tmpri48ruo1\\7ur5y2y2.json\n",
      "DEBUG:cmdstanpy:idx 0\n",
      "DEBUG:cmdstanpy:running CmdStan, num_threads: None\n",
      "DEBUG:cmdstanpy:CmdStan args: ['C:\\\\Users\\\\Ken\\\\anaconda3\\\\Lib\\\\site-packages\\\\prophet\\\\stan_model\\\\prophet_model.bin', 'random', 'seed=98810', 'data', 'file=C:\\\\Users\\\\Ken\\\\AppData\\\\Local\\\\Temp\\\\tmpri48ruo1\\\\g13nbd0v.json', 'init=C:\\\\Users\\\\Ken\\\\AppData\\\\Local\\\\Temp\\\\tmpri48ruo1\\\\7ur5y2y2.json', 'output', 'file=C:\\\\Users\\\\Ken\\\\AppData\\\\Local\\\\Temp\\\\tmpri48ruo1\\\\prophet_model5xl67pdv\\\\prophet_model-20250625185127.csv', 'method=optimize', 'algorithm=newton', 'iter=10000']\n",
      "18:51:27 - cmdstanpy - INFO - Chain [1] start processing\n",
      "INFO:cmdstanpy:Chain [1] start processing\n",
      "18:51:27 - cmdstanpy - INFO - Chain [1] done processing\n",
      "INFO:cmdstanpy:Chain [1] done processing\n"
     ]
    },
    {
     "data": {
      "text/plain": [
       "['Watermelon_arima_model.pkl']"
      ]
     },
     "execution_count": 10,
     "metadata": {},
     "output_type": "execute_result"
    },
    {
     "name": "stderr",
     "output_type": "stream",
     "text": [
      "DEBUG:cmdstanpy:cmd: where.exe tbb.dll\n",
      "cwd: None\n",
      "DEBUG:cmdstanpy:TBB already found in load path\n",
      "INFO:prophet:Disabling yearly seasonality. Run prophet with yearly_seasonality=True to override this.\n",
      "INFO:prophet:Disabling weekly seasonality. Run prophet with weekly_seasonality=True to override this.\n",
      "INFO:prophet:Disabling daily seasonality. Run prophet with daily_seasonality=True to override this.\n",
      "DEBUG:cmdstanpy:input tempfile: C:\\Users\\Ken\\AppData\\Local\\Temp\\tmpri48ruo1\\5enm6hnw.json\n",
      "DEBUG:cmdstanpy:input tempfile: C:\\Users\\Ken\\AppData\\Local\\Temp\\tmpri48ruo1\\78iag1a8.json\n",
      "DEBUG:cmdstanpy:idx 0\n",
      "DEBUG:cmdstanpy:running CmdStan, num_threads: None\n",
      "DEBUG:cmdstanpy:CmdStan args: ['C:\\\\Users\\\\Ken\\\\anaconda3\\\\Lib\\\\site-packages\\\\prophet\\\\stan_model\\\\prophet_model.bin', 'random', 'seed=90459', 'data', 'file=C:\\\\Users\\\\Ken\\\\AppData\\\\Local\\\\Temp\\\\tmpri48ruo1\\\\5enm6hnw.json', 'init=C:\\\\Users\\\\Ken\\\\AppData\\\\Local\\\\Temp\\\\tmpri48ruo1\\\\78iag1a8.json', 'output', 'file=C:\\\\Users\\\\Ken\\\\AppData\\\\Local\\\\Temp\\\\tmpri48ruo1\\\\prophet_modela9ft83l2\\\\prophet_model-20250625185133.csv', 'method=optimize', 'algorithm=newton', 'iter=10000']\n",
      "18:51:33 - cmdstanpy - INFO - Chain [1] start processing\n",
      "INFO:cmdstanpy:Chain [1] start processing\n",
      "18:51:33 - cmdstanpy - INFO - Chain [1] done processing\n",
      "INFO:cmdstanpy:Chain [1] done processing\n"
     ]
    },
    {
     "data": {
      "text/plain": [
       "['Margarine_arima_model.pkl']"
      ]
     },
     "execution_count": 10,
     "metadata": {},
     "output_type": "execute_result"
    },
    {
     "name": "stderr",
     "output_type": "stream",
     "text": [
      "DEBUG:cmdstanpy:cmd: where.exe tbb.dll\n",
      "cwd: None\n",
      "DEBUG:cmdstanpy:TBB already found in load path\n",
      "INFO:prophet:Disabling yearly seasonality. Run prophet with yearly_seasonality=True to override this.\n",
      "INFO:prophet:Disabling weekly seasonality. Run prophet with weekly_seasonality=True to override this.\n",
      "INFO:prophet:Disabling daily seasonality. Run prophet with daily_seasonality=True to override this.\n",
      "DEBUG:cmdstanpy:input tempfile: C:\\Users\\Ken\\AppData\\Local\\Temp\\tmpri48ruo1\\pqrkl69w.json\n",
      "DEBUG:cmdstanpy:input tempfile: C:\\Users\\Ken\\AppData\\Local\\Temp\\tmpri48ruo1\\3hp3bk3r.json\n",
      "DEBUG:cmdstanpy:idx 0\n",
      "DEBUG:cmdstanpy:running CmdStan, num_threads: None\n",
      "DEBUG:cmdstanpy:CmdStan args: ['C:\\\\Users\\\\Ken\\\\anaconda3\\\\Lib\\\\site-packages\\\\prophet\\\\stan_model\\\\prophet_model.bin', 'random', 'seed=52805', 'data', 'file=C:\\\\Users\\\\Ken\\\\AppData\\\\Local\\\\Temp\\\\tmpri48ruo1\\\\pqrkl69w.json', 'init=C:\\\\Users\\\\Ken\\\\AppData\\\\Local\\\\Temp\\\\tmpri48ruo1\\\\3hp3bk3r.json', 'output', 'file=C:\\\\Users\\\\Ken\\\\AppData\\\\Local\\\\Temp\\\\tmpri48ruo1\\\\prophet_modelv4h2_uvn\\\\prophet_model-20250625185141.csv', 'method=optimize', 'algorithm=newton', 'iter=10000']\n",
      "18:51:41 - cmdstanpy - INFO - Chain [1] start processing\n",
      "INFO:cmdstanpy:Chain [1] start processing\n",
      "18:51:42 - cmdstanpy - INFO - Chain [1] done processing\n",
      "INFO:cmdstanpy:Chain [1] done processing\n"
     ]
    },
    {
     "data": {
      "text/plain": [
       "['Spaghetti_arima_model.pkl']"
      ]
     },
     "execution_count": 10,
     "metadata": {},
     "output_type": "execute_result"
    },
    {
     "name": "stderr",
     "output_type": "stream",
     "text": [
      "DEBUG:cmdstanpy:cmd: where.exe tbb.dll\n",
      "cwd: None\n",
      "DEBUG:cmdstanpy:TBB already found in load path\n",
      "INFO:prophet:Disabling yearly seasonality. Run prophet with yearly_seasonality=True to override this.\n",
      "INFO:prophet:Disabling weekly seasonality. Run prophet with weekly_seasonality=True to override this.\n",
      "INFO:prophet:Disabling daily seasonality. Run prophet with daily_seasonality=True to override this.\n",
      "DEBUG:cmdstanpy:input tempfile: C:\\Users\\Ken\\AppData\\Local\\Temp\\tmpri48ruo1\\q0c0vvd3.json\n",
      "DEBUG:cmdstanpy:input tempfile: C:\\Users\\Ken\\AppData\\Local\\Temp\\tmpri48ruo1\\lypblp13.json\n",
      "DEBUG:cmdstanpy:idx 0\n",
      "DEBUG:cmdstanpy:running CmdStan, num_threads: None\n",
      "DEBUG:cmdstanpy:CmdStan args: ['C:\\\\Users\\\\Ken\\\\anaconda3\\\\Lib\\\\site-packages\\\\prophet\\\\stan_model\\\\prophet_model.bin', 'random', 'seed=27823', 'data', 'file=C:\\\\Users\\\\Ken\\\\AppData\\\\Local\\\\Temp\\\\tmpri48ruo1\\\\q0c0vvd3.json', 'init=C:\\\\Users\\\\Ken\\\\AppData\\\\Local\\\\Temp\\\\tmpri48ruo1\\\\lypblp13.json', 'output', 'file=C:\\\\Users\\\\Ken\\\\AppData\\\\Local\\\\Temp\\\\tmpri48ruo1\\\\prophet_modelmcgrpiov\\\\prophet_model-20250625185148.csv', 'method=optimize', 'algorithm=newton', 'iter=10000']\n",
      "18:51:48 - cmdstanpy - INFO - Chain [1] start processing\n",
      "INFO:cmdstanpy:Chain [1] start processing\n",
      "18:51:48 - cmdstanpy - INFO - Chain [1] done processing\n",
      "INFO:cmdstanpy:Chain [1] done processing\n"
     ]
    },
    {
     "data": {
      "text/plain": [
       "['Macaroni_arima_model.pkl']"
      ]
     },
     "execution_count": 10,
     "metadata": {},
     "output_type": "execute_result"
    },
    {
     "name": "stderr",
     "output_type": "stream",
     "text": [
      "DEBUG:cmdstanpy:cmd: where.exe tbb.dll\n",
      "cwd: None\n",
      "DEBUG:cmdstanpy:TBB already found in load path\n",
      "INFO:prophet:Disabling yearly seasonality. Run prophet with yearly_seasonality=True to override this.\n",
      "INFO:prophet:Disabling weekly seasonality. Run prophet with weekly_seasonality=True to override this.\n",
      "INFO:prophet:Disabling daily seasonality. Run prophet with daily_seasonality=True to override this.\n",
      "DEBUG:cmdstanpy:input tempfile: C:\\Users\\Ken\\AppData\\Local\\Temp\\tmpri48ruo1\\wy192zl_.json\n",
      "DEBUG:cmdstanpy:input tempfile: C:\\Users\\Ken\\AppData\\Local\\Temp\\tmpri48ruo1\\25melwch.json\n",
      "DEBUG:cmdstanpy:idx 0\n",
      "DEBUG:cmdstanpy:running CmdStan, num_threads: None\n",
      "DEBUG:cmdstanpy:CmdStan args: ['C:\\\\Users\\\\Ken\\\\anaconda3\\\\Lib\\\\site-packages\\\\prophet\\\\stan_model\\\\prophet_model.bin', 'random', 'seed=9915', 'data', 'file=C:\\\\Users\\\\Ken\\\\AppData\\\\Local\\\\Temp\\\\tmpri48ruo1\\\\wy192zl_.json', 'init=C:\\\\Users\\\\Ken\\\\AppData\\\\Local\\\\Temp\\\\tmpri48ruo1\\\\25melwch.json', 'output', 'file=C:\\\\Users\\\\Ken\\\\AppData\\\\Local\\\\Temp\\\\tmpri48ruo1\\\\prophet_model5ebwe72z\\\\prophet_model-20250625185155.csv', 'method=optimize', 'algorithm=newton', 'iter=10000']\n",
      "18:51:55 - cmdstanpy - INFO - Chain [1] start processing\n",
      "INFO:cmdstanpy:Chain [1] start processing\n",
      "18:51:55 - cmdstanpy - INFO - Chain [1] done processing\n",
      "INFO:cmdstanpy:Chain [1] done processing\n"
     ]
    },
    {
     "data": {
      "text/plain": [
       "['Honey_arima_model.pkl']"
      ]
     },
     "execution_count": 10,
     "metadata": {},
     "output_type": "execute_result"
    },
    {
     "name": "stderr",
     "output_type": "stream",
     "text": [
      "DEBUG:cmdstanpy:cmd: where.exe tbb.dll\n",
      "cwd: None\n",
      "DEBUG:cmdstanpy:TBB already found in load path\n",
      "INFO:prophet:Disabling yearly seasonality. Run prophet with yearly_seasonality=True to override this.\n",
      "INFO:prophet:Disabling weekly seasonality. Run prophet with weekly_seasonality=True to override this.\n",
      "INFO:prophet:Disabling daily seasonality. Run prophet with daily_seasonality=True to override this.\n",
      "DEBUG:cmdstanpy:input tempfile: C:\\Users\\Ken\\AppData\\Local\\Temp\\tmpri48ruo1\\jtqjvmdq.json\n",
      "DEBUG:cmdstanpy:input tempfile: C:\\Users\\Ken\\AppData\\Local\\Temp\\tmpri48ruo1\\7b484h9t.json\n",
      "DEBUG:cmdstanpy:idx 0\n",
      "DEBUG:cmdstanpy:running CmdStan, num_threads: None\n",
      "DEBUG:cmdstanpy:CmdStan args: ['C:\\\\Users\\\\Ken\\\\anaconda3\\\\Lib\\\\site-packages\\\\prophet\\\\stan_model\\\\prophet_model.bin', 'random', 'seed=4078', 'data', 'file=C:\\\\Users\\\\Ken\\\\AppData\\\\Local\\\\Temp\\\\tmpri48ruo1\\\\jtqjvmdq.json', 'init=C:\\\\Users\\\\Ken\\\\AppData\\\\Local\\\\Temp\\\\tmpri48ruo1\\\\7b484h9t.json', 'output', 'file=C:\\\\Users\\\\Ken\\\\AppData\\\\Local\\\\Temp\\\\tmpri48ruo1\\\\prophet_modeluqp5v356\\\\prophet_model-20250625185202.csv', 'method=optimize', 'algorithm=newton', 'iter=10000']\n",
      "18:52:02 - cmdstanpy - INFO - Chain [1] start processing\n",
      "INFO:cmdstanpy:Chain [1] start processing\n",
      "18:52:02 - cmdstanpy - INFO - Chain [1] done processing\n",
      "INFO:cmdstanpy:Chain [1] done processing\n"
     ]
    },
    {
     "data": {
      "text/plain": [
       "['Rice_(local)_arima_model.pkl']"
      ]
     },
     "execution_count": 10,
     "metadata": {},
     "output_type": "execute_result"
    },
    {
     "name": "stderr",
     "output_type": "stream",
     "text": [
      "DEBUG:cmdstanpy:cmd: where.exe tbb.dll\n",
      "cwd: None\n",
      "DEBUG:cmdstanpy:TBB already found in load path\n",
      "INFO:prophet:Disabling yearly seasonality. Run prophet with yearly_seasonality=True to override this.\n",
      "INFO:prophet:Disabling weekly seasonality. Run prophet with weekly_seasonality=True to override this.\n",
      "INFO:prophet:Disabling daily seasonality. Run prophet with daily_seasonality=True to override this.\n",
      "DEBUG:cmdstanpy:input tempfile: C:\\Users\\Ken\\AppData\\Local\\Temp\\tmpri48ruo1\\mvknffa8.json\n",
      "DEBUG:cmdstanpy:input tempfile: C:\\Users\\Ken\\AppData\\Local\\Temp\\tmpri48ruo1\\f42vxf2b.json\n",
      "DEBUG:cmdstanpy:idx 0\n",
      "DEBUG:cmdstanpy:running CmdStan, num_threads: None\n",
      "DEBUG:cmdstanpy:CmdStan args: ['C:\\\\Users\\\\Ken\\\\anaconda3\\\\Lib\\\\site-packages\\\\prophet\\\\stan_model\\\\prophet_model.bin', 'random', 'seed=64150', 'data', 'file=C:\\\\Users\\\\Ken\\\\AppData\\\\Local\\\\Temp\\\\tmpri48ruo1\\\\mvknffa8.json', 'init=C:\\\\Users\\\\Ken\\\\AppData\\\\Local\\\\Temp\\\\tmpri48ruo1\\\\f42vxf2b.json', 'output', 'file=C:\\\\Users\\\\Ken\\\\AppData\\\\Local\\\\Temp\\\\tmpri48ruo1\\\\prophet_modelk00f_oeg\\\\prophet_model-20250625185212.csv', 'method=optimize', 'algorithm=newton', 'iter=10000']\n",
      "18:52:12 - cmdstanpy - INFO - Chain [1] start processing\n",
      "INFO:cmdstanpy:Chain [1] start processing\n",
      "18:52:12 - cmdstanpy - INFO - Chain [1] done processing\n",
      "INFO:cmdstanpy:Chain [1] done processing\n"
     ]
    },
    {
     "data": {
      "text/plain": [
       "['Chickpeas_arima_model.pkl']"
      ]
     },
     "execution_count": 10,
     "metadata": {},
     "output_type": "execute_result"
    },
    {
     "name": "stderr",
     "output_type": "stream",
     "text": [
      "DEBUG:cmdstanpy:cmd: where.exe tbb.dll\n",
      "cwd: None\n",
      "DEBUG:cmdstanpy:TBB already found in load path\n",
      "INFO:prophet:Disabling yearly seasonality. Run prophet with yearly_seasonality=True to override this.\n",
      "INFO:prophet:Disabling weekly seasonality. Run prophet with weekly_seasonality=True to override this.\n",
      "INFO:prophet:Disabling daily seasonality. Run prophet with daily_seasonality=True to override this.\n",
      "DEBUG:cmdstanpy:input tempfile: C:\\Users\\Ken\\AppData\\Local\\Temp\\tmpri48ruo1\\iiqi3iws.json\n",
      "DEBUG:cmdstanpy:input tempfile: C:\\Users\\Ken\\AppData\\Local\\Temp\\tmpri48ruo1\\8nuisxtk.json\n",
      "DEBUG:cmdstanpy:idx 0\n",
      "DEBUG:cmdstanpy:running CmdStan, num_threads: None\n",
      "DEBUG:cmdstanpy:CmdStan args: ['C:\\\\Users\\\\Ken\\\\anaconda3\\\\Lib\\\\site-packages\\\\prophet\\\\stan_model\\\\prophet_model.bin', 'random', 'seed=36617', 'data', 'file=C:\\\\Users\\\\Ken\\\\AppData\\\\Local\\\\Temp\\\\tmpri48ruo1\\\\iiqi3iws.json', 'init=C:\\\\Users\\\\Ken\\\\AppData\\\\Local\\\\Temp\\\\tmpri48ruo1\\\\8nuisxtk.json', 'output', 'file=C:\\\\Users\\\\Ken\\\\AppData\\\\Local\\\\Temp\\\\tmpri48ruo1\\\\prophet_modelby5073m4\\\\prophet_model-20250625185218.csv', 'method=optimize', 'algorithm=newton', 'iter=10000']\n",
      "18:52:18 - cmdstanpy - INFO - Chain [1] start processing\n",
      "INFO:cmdstanpy:Chain [1] start processing\n",
      "18:52:18 - cmdstanpy - INFO - Chain [1] done processing\n",
      "INFO:cmdstanpy:Chain [1] done processing\n"
     ]
    },
    {
     "data": {
      "text/plain": [
       "['Goat_meat_arima_model.pkl']"
      ]
     },
     "execution_count": 10,
     "metadata": {},
     "output_type": "execute_result"
    },
    {
     "name": "stderr",
     "output_type": "stream",
     "text": [
      "DEBUG:cmdstanpy:cmd: where.exe tbb.dll\n",
      "cwd: None\n",
      "DEBUG:cmdstanpy:TBB already found in load path\n",
      "INFO:prophet:Disabling yearly seasonality. Run prophet with yearly_seasonality=True to override this.\n",
      "INFO:prophet:Disabling weekly seasonality. Run prophet with weekly_seasonality=True to override this.\n",
      "INFO:prophet:Disabling daily seasonality. Run prophet with daily_seasonality=True to override this.\n",
      "DEBUG:cmdstanpy:input tempfile: C:\\Users\\Ken\\AppData\\Local\\Temp\\tmpri48ruo1\\x6175fqp.json\n",
      "DEBUG:cmdstanpy:input tempfile: C:\\Users\\Ken\\AppData\\Local\\Temp\\tmpri48ruo1\\71jonnc8.json\n",
      "DEBUG:cmdstanpy:idx 0\n",
      "DEBUG:cmdstanpy:running CmdStan, num_threads: None\n",
      "DEBUG:cmdstanpy:CmdStan args: ['C:\\\\Users\\\\Ken\\\\anaconda3\\\\Lib\\\\site-packages\\\\prophet\\\\stan_model\\\\prophet_model.bin', 'random', 'seed=53304', 'data', 'file=C:\\\\Users\\\\Ken\\\\AppData\\\\Local\\\\Temp\\\\tmpri48ruo1\\\\x6175fqp.json', 'init=C:\\\\Users\\\\Ken\\\\AppData\\\\Local\\\\Temp\\\\tmpri48ruo1\\\\71jonnc8.json', 'output', 'file=C:\\\\Users\\\\Ken\\\\AppData\\\\Local\\\\Temp\\\\tmpri48ruo1\\\\prophet_modelfhzzfe9u\\\\prophet_model-20250625185223.csv', 'method=optimize', 'algorithm=newton', 'iter=10000']\n",
      "18:52:23 - cmdstanpy - INFO - Chain [1] start processing\n",
      "INFO:cmdstanpy:Chain [1] start processing\n",
      "18:52:24 - cmdstanpy - INFO - Chain [1] done processing\n",
      "INFO:cmdstanpy:Chain [1] done processing\n"
     ]
    },
    {
     "data": {
      "text/plain": [
       "['Sorghum_arima_model.pkl']"
      ]
     },
     "execution_count": 10,
     "metadata": {},
     "output_type": "execute_result"
    },
    {
     "name": "stderr",
     "output_type": "stream",
     "text": [
      "DEBUG:cmdstanpy:cmd: where.exe tbb.dll\n",
      "cwd: None\n",
      "DEBUG:cmdstanpy:TBB already found in load path\n",
      "INFO:prophet:Disabling yearly seasonality. Run prophet with yearly_seasonality=True to override this.\n",
      "INFO:prophet:Disabling weekly seasonality. Run prophet with weekly_seasonality=True to override this.\n",
      "INFO:prophet:Disabling daily seasonality. Run prophet with daily_seasonality=True to override this.\n",
      "DEBUG:cmdstanpy:input tempfile: C:\\Users\\Ken\\AppData\\Local\\Temp\\tmpri48ruo1\\fwp2h0c4.json\n",
      "DEBUG:cmdstanpy:input tempfile: C:\\Users\\Ken\\AppData\\Local\\Temp\\tmpri48ruo1\\p5u9orvt.json\n",
      "DEBUG:cmdstanpy:idx 0\n",
      "DEBUG:cmdstanpy:running CmdStan, num_threads: None\n",
      "DEBUG:cmdstanpy:CmdStan args: ['C:\\\\Users\\\\Ken\\\\anaconda3\\\\Lib\\\\site-packages\\\\prophet\\\\stan_model\\\\prophet_model.bin', 'random', 'seed=40061', 'data', 'file=C:\\\\Users\\\\Ken\\\\AppData\\\\Local\\\\Temp\\\\tmpri48ruo1\\\\fwp2h0c4.json', 'init=C:\\\\Users\\\\Ken\\\\AppData\\\\Local\\\\Temp\\\\tmpri48ruo1\\\\p5u9orvt.json', 'output', 'file=C:\\\\Users\\\\Ken\\\\AppData\\\\Local\\\\Temp\\\\tmpri48ruo1\\\\prophet_modelepv_6xmg\\\\prophet_model-20250625185230.csv', 'method=optimize', 'algorithm=newton', 'iter=10000']\n",
      "18:52:30 - cmdstanpy - INFO - Chain [1] start processing\n",
      "INFO:cmdstanpy:Chain [1] start processing\n",
      "18:52:30 - cmdstanpy - INFO - Chain [1] done processing\n",
      "INFO:cmdstanpy:Chain [1] done processing\n"
     ]
    },
    {
     "data": {
      "text/plain": [
       "['Dry_peas_arima_model.pkl']"
      ]
     },
     "execution_count": 10,
     "metadata": {},
     "output_type": "execute_result"
    },
    {
     "name": "stderr",
     "output_type": "stream",
     "text": [
      "DEBUG:cmdstanpy:cmd: where.exe tbb.dll\n",
      "cwd: None\n",
      "DEBUG:cmdstanpy:TBB already found in load path\n",
      "INFO:prophet:Disabling yearly seasonality. Run prophet with yearly_seasonality=True to override this.\n",
      "INFO:prophet:Disabling weekly seasonality. Run prophet with weekly_seasonality=True to override this.\n",
      "INFO:prophet:Disabling daily seasonality. Run prophet with daily_seasonality=True to override this.\n",
      "DEBUG:cmdstanpy:input tempfile: C:\\Users\\Ken\\AppData\\Local\\Temp\\tmpri48ruo1\\q_sz_79h.json\n",
      "DEBUG:cmdstanpy:input tempfile: C:\\Users\\Ken\\AppData\\Local\\Temp\\tmpri48ruo1\\0l8_hhu5.json\n",
      "DEBUG:cmdstanpy:idx 0\n",
      "DEBUG:cmdstanpy:running CmdStan, num_threads: None\n",
      "DEBUG:cmdstanpy:CmdStan args: ['C:\\\\Users\\\\Ken\\\\anaconda3\\\\Lib\\\\site-packages\\\\prophet\\\\stan_model\\\\prophet_model.bin', 'random', 'seed=10956', 'data', 'file=C:\\\\Users\\\\Ken\\\\AppData\\\\Local\\\\Temp\\\\tmpri48ruo1\\\\q_sz_79h.json', 'init=C:\\\\Users\\\\Ken\\\\AppData\\\\Local\\\\Temp\\\\tmpri48ruo1\\\\0l8_hhu5.json', 'output', 'file=C:\\\\Users\\\\Ken\\\\AppData\\\\Local\\\\Temp\\\\tmpri48ruo1\\\\prophet_model6guwj6vk\\\\prophet_model-20250625185236.csv', 'method=optimize', 'algorithm=newton', 'iter=10000']\n",
      "18:52:36 - cmdstanpy - INFO - Chain [1] start processing\n",
      "INFO:cmdstanpy:Chain [1] start processing\n",
      "18:52:36 - cmdstanpy - INFO - Chain [1] done processing\n",
      "INFO:cmdstanpy:Chain [1] done processing\n"
     ]
    },
    {
     "data": {
      "text/plain": [
       "['Grapes_arima_model.pkl']"
      ]
     },
     "execution_count": 10,
     "metadata": {},
     "output_type": "execute_result"
    }
   ],
   "source": [
    "products = data['product'].unique()\n",
    "results = []\n",
    "\n",
    "for product in products:\n",
    "    ts = prepare_series(data, product)\n",
    "    if len(ts) < 30:\n",
    "        continue\n",
    "    h = min(12, int(len(ts) * 0.2))\n",
    "    test = ts[-h:]\n",
    "\n",
    "    fc_prophet = prophet_forecast(ts, h=h)\n",
    "    mape_prophet = mean_absolute_percentage_error(test, fc_prophet) if fc_prophet is not None else np.nan\n",
    "\n",
    "    fc_ml, y_true_ml, model = ml_forecast(ts, h=h, product_name=product.replace(\" \", \"_\"))\n",
    "    mape_ml = mean_absolute_percentage_error(y_true_ml, fc_ml) if fc_ml is not None else np.nan\n",
    "    rmse_ml = np.sqrt(mean_squared_error(y_true_ml, fc_ml)) if fc_ml is not None else np.nan\n",
    "    r2_ml = r2_score(y_true_ml, fc_ml) if fc_ml is not None else np.nan\n",
    "\n",
    "    try:\n",
    "        model_arima = ARIMA(ts[:-h], order=(1,1,1)).fit()\n",
    "        fc_arima = model_arima.forecast(steps=h)\n",
    "        mape_arima = mean_absolute_percentage_error(test, fc_arima)\n",
    "        rmse_arima = np.sqrt(mean_squared_error(test, fc_arima))\n",
    "        r2_arima = r2_score(test, fc_arima)\n",
    "        joblib.dump(model_arima, f\"{product.replace(' ', '_')}_arima_model.pkl\")\n",
    "    except:\n",
    "        mape_arima = rmse_arima = r2_arima = np.nan\n",
    "\n",
    "    best = min([(\"ARIMA\", mape_arima), (\"Prophet\", mape_prophet), (\"ML\", mape_ml)], key=lambda x: x[1] if pd.notna(x[1]) else np.inf)\n",
    "    results.append({\n",
    "        'product': product,\n",
    "        'mape_arima': mape_arima,\n",
    "        'rmse_arima': rmse_arima,\n",
    "        'r2_arima': r2_arima,\n",
    "        'mape_prophet': mape_prophet,\n",
    "        'mape_ml': mape_ml,\n",
    "        'rmse_ml': rmse_ml,\n",
    "        'r2_ml': r2_ml,\n",
    "        'best_method': best[0],\n",
    "        'best_mape': best[1]\n",
    "    })"
   ]
  },
  {
   "cell_type": "markdown",
   "id": "798a8514-4d14-43c1-bba9-1934472e767f",
   "metadata": {},
   "source": [
    "# Display Results"
   ]
  },
  {
   "cell_type": "code",
   "execution_count": 7,
   "id": "81e91454-2d89-42e2-9348-3a6b004d3148",
   "metadata": {},
   "outputs": [
    {
     "name": "stdout",
     "output_type": "stream",
     "text": [
      "            product  mape_arima  rmse_arima  r2_arima  mape_prophet   mape_ml  \\\n",
      "7        Beef (raw)    2.674013   23.991653  0.000570      2.663627  2.311451   \n",
      "11           Barley    2.808780   50.148891 -0.025512      2.734075  2.613978   \n",
      "41       Teff (red)    3.984641   97.295522 -0.098889      3.697178  4.344827   \n",
      "19     Teff (white)    4.024419   95.799970 -0.056244      3.903682  3.930039   \n",
      "40            Wheat    4.798422   75.862997 -0.110071      4.748761  5.307510   \n",
      "54     Rice (local)    5.340818  117.955094 -0.103795      5.324583  4.986144   \n",
      "12  Rice (imported)    5.498617  145.448428 -0.052000      5.403969  5.296007   \n",
      "8        Milk (raw)    5.800566    2.793997 -0.156807      5.318487  6.000607   \n",
      "35             Eggs    5.912781    0.570343 -0.048390      5.932039  6.559185   \n",
      "22   Chicken (live)    7.445052   34.649691 -0.071633      6.858599  6.556895   \n",
      "\n",
      "       rmse_ml     r2_ml best_method  best_mape  \n",
      "7    22.905108  0.089045          ML   2.311451  \n",
      "11   45.817985  0.143968          ML   2.613978  \n",
      "41   98.858286 -0.134473     Prophet   3.697178  \n",
      "19   97.956026 -0.104323     Prophet   3.903682  \n",
      "40   81.054368 -0.267196     Prophet   4.748761  \n",
      "54  119.605788 -0.134905          ML   4.986144  \n",
      "12  131.493553  0.140182          ML   5.296007  \n",
      "8     2.935382 -0.276844     Prophet   5.318487  \n",
      "35    0.681874 -0.498509       ARIMA   5.912781  \n",
      "22   31.962559  0.088135          ML   6.556895  \n"
     ]
    }
   ],
   "source": [
    "results_df = pd.DataFrame(results).sort_values('best_mape')\n",
    "print(results_df.head(10))"
   ]
  },
  {
   "cell_type": "markdown",
   "id": "ca984d64-8153-419c-8090-d4351395b7b1",
   "metadata": {},
   "source": [
    "# Plot Forecast Example"
   ]
  },
  {
   "cell_type": "code",
   "execution_count": 9,
   "id": "fda9461f-9d4d-4598-9bfd-8c5550e1d32a",
   "metadata": {},
   "outputs": [
    {
     "data": {
      "text/plain": [
       "<Figure size 1000x400 with 0 Axes>"
      ]
     },
     "execution_count": 9,
     "metadata": {},
     "output_type": "execute_result"
    },
    {
     "data": {
      "text/plain": [
       "[<matplotlib.lines.Line2D at 0x1d3433673b0>]"
      ]
     },
     "execution_count": 9,
     "metadata": {},
     "output_type": "execute_result"
    },
    {
     "data": {
      "text/plain": [
       "[<matplotlib.lines.Line2D at 0x1d343348b90>]"
      ]
     },
     "execution_count": 9,
     "metadata": {},
     "output_type": "execute_result"
    },
    {
     "data": {
      "text/plain": [
       "[<matplotlib.lines.Line2D at 0x1d3433488f0>]"
      ]
     },
     "execution_count": 9,
     "metadata": {},
     "output_type": "execute_result"
    },
    {
     "data": {
      "text/plain": [
       "Text(0.5, 1.0, 'Forecast for Beef (raw) (MAPE: 2.31%)')"
      ]
     },
     "execution_count": 9,
     "metadata": {},
     "output_type": "execute_result"
    },
    {
     "data": {
      "text/plain": [
       "<matplotlib.legend.Legend at 0x1d3433a9460>"
      ]
     },
     "execution_count": 9,
     "metadata": {},
     "output_type": "execute_result"
    },
    {
     "data": {
      "image/png": "[encoded data removed]",
      "text/plain": [
       "<Figure size 1000x400 with 1 Axes>"
      ]
     },
     "metadata": {},
     "output_type": "display_data"
    }
   ],
   "source": [
    "example = results_df.iloc[0]['product']\n",
    "ts = prepare_series(data, example)\n",
    "h = min(12, int(len(ts) * 0.2))\n",
    "test = ts[-h:]\n",
    "train = ts[:-h]\n",
    "model = ARIMA(train, order=(1,1,1)).fit()\n",
    "fc = model.forecast(steps=h)\n",
    "\n",
    "plt.figure(figsize=(10,4))\n",
    "plt.plot(train.index, train, label='Train')\n",
    "plt.plot(test.index, test, label='Test')\n",
    "plt.plot(test.index, fc, label='ARIMA Forecast')\n",
    "plt.title(f\"Forecast for {example} (MAPE: {results_df.iloc[0]['best_mape']:.2f}%)\")\n",
    "plt.legend()\n",
    "plt.tight_layout()\n",
    "plt.show()"
   ]
  },
  {
   "cell_type": "code",
   "execution_count": null,
   "id": "b660f8cb-0a33-405f-9543-a287d717f86c",
   "metadata": {},
   "outputs": [],
   "source": []
  }
 ],
 "metadata": {
  "kernelspec": {
   "display_name": "Python 3 (ipykernel)",
   "language": "python",
   "name": "python3"
  },
  "language_info": {
   "codemirror_mode": {
    "name": "ipython",
    "version": 3
   },
   "file_extension": ".py",
   "mimetype": "text/x-python",
   "name": "python",
   "nbconvert_exporter": "python",
   "pygments_lexer": "ipython3",
   "version": "3.12.7"
  }
 },
 "nbformat": 4,
 "nbformat_minor": 5
}
