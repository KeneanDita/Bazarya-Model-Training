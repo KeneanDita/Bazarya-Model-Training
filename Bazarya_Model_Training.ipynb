{
 "cells": [
  {
   "cell_type": "markdown",
   "id": "9a482f5e-0007-4c3b-b563-bc899d508d53",
   "metadata": {},
   "source": [
    "# Importing Libraries"
   ]
  },
  {
   "cell_type": "code",
   "execution_count": 2,
   "id": "1b2228b1-67ea-4972-b203-a22d06391072",
   "metadata": {},
   "outputs": [],
   "source": [
    "import numpy as np \n",
    "import pandas as pd \n",
    "import matplotlib.pyplot as plt \n",
    "import seaborn as sns\n",
    "import warnings\n",
    "warnings.filterwarnings('ignore')"
   ]
  },
  {
   "cell_type": "markdown",
   "id": "88b0a53e-12e0-4c7f-8673-ba202a7b0724",
   "metadata": {},
   "source": [
    "# Data Loading and Overview"
   ]
  },
  {
   "cell_type": "code",
   "execution_count": 3,
   "id": "7e430353-7cae-424e-adf8-6442badb8d84",
   "metadata": {},
   "outputs": [],
   "source": [
    "df = pd.read_csv('Data/bazarya_price_data.csv')"
   ]
  },
  {
   "cell_type": "code",
   "execution_count": 4,
   "id": "5a8332f4-bbc1-4c52-8598-0663716df2c2",
   "metadata": {},
   "outputs": [
    {
     "data": {
      "application/vnd.dataresource+json": {
       "data": [
        {
         "category": "Cereal",
         "date": "2023-02-26",
         "index": 0,
         "market_name": "Jimma",
         "price": 1407.95,
         "price_type": "Retail",
         "product": "Millet",
         "region": "SNNPR",
         "unit": "quintal",
         "woreda": "North Shewa"
        },
        {
         "category": "Vegetable",
         "date": "2023-05-05",
         "index": 1,
         "market_name": "Bahir Dar",
         "price": 1334.51,
         "price_type": "Wholesale",
         "product": "Hot pepper",
         "region": "Oromia",
         "unit": "quintal",
         "woreda": "Wolaita"
        },
        {
         "category": "Processed Food",
         "date": "2023-12-03",
         "index": 2,
         "market_name": "Jimma",
         "price": 245.54,
         "price_type": "Wholesale",
         "product": "Sugar (local)",
         "region": "Tigray",
         "unit": "kg",
         "woreda": "Basketo"
        },
        {
         "category": "Other",
         "date": "2024-06-08",
         "index": 3,
         "market_name": "Wolkite",
         "price": 132.15,
         "price_type": "Farmgate",
         "product": "Fava beans",
         "region": "SNNPR",
         "unit": "kg",
         "woreda": "Kaffa"
        },
        {
         "category": "Other",
         "date": "2024-01-05",
         "index": 4,
         "market_name": "Gonder",
         "price": 1619.45,
         "price_type": "Retail",
         "product": "Nifro",
         "region": "Tigray",
         "unit": "quintal",
         "woreda": "Bole"
        }
       ],
       "schema": {
        "fields": [
         {
          "name": "index",
          "type": "integer"
         },
         {
          "name": "date",
          "type": "string"
         },
         {
          "name": "product",
          "type": "string"
         },
         {
          "name": "category",
          "type": "string"
         },
         {
          "name": "price",
          "type": "number"
         },
         {
          "name": "unit",
          "type": "string"
         },
         {
          "name": "market_name",
          "type": "string"
         },
         {
          "name": "region",
          "type": "string"
         },
         {
          "name": "woreda",
          "type": "string"
         },
         {
          "name": "price_type",
          "type": "string"
         }
        ],
        "pandas_version": "1.4.0",
        "primaryKey": [
         "index"
        ]
       }
      },
      "text/html": [
       "<div>\n",
       "<style scoped>\n",
       "    .dataframe tbody tr th:only-of-type {\n",
       "        vertical-align: middle;\n",
       "    }\n",
       "\n",
       "    .dataframe tbody tr th {\n",
       "        vertical-align: top;\n",
       "    }\n",
       "\n",
       "    .dataframe thead th {\n",
       "        text-align: right;\n",
       "    }\n",
       "</style>\n",
       "<table border=\"1\" class=\"dataframe\">\n",
       "  <thead>\n",
       "    <tr style=\"text-align: right;\">\n",
       "      <th></th>\n",
       "      <th>date</th>\n",
       "      <th>product</th>\n",
       "      <th>category</th>\n",
       "      <th>price</th>\n",
       "      <th>unit</th>\n",
       "      <th>market_name</th>\n",
       "      <th>region</th>\n",
       "      <th>woreda</th>\n",
       "      <th>price_type</th>\n",
       "    </tr>\n",
       "  </thead>\n",
       "  <tbody>\n",
       "    <tr>\n",
       "      <th>0</th>\n",
       "      <td>2023-02-26</td>\n",
       "      <td>Millet</td>\n",
       "      <td>Cereal</td>\n",
       "      <td>1407.95</td>\n",
       "      <td>quintal</td>\n",
       "      <td>Jimma</td>\n",
       "      <td>SNNPR</td>\n",
       "      <td>North Shewa</td>\n",
       "      <td>Retail</td>\n",
       "    </tr>\n",
       "    <tr>\n",
       "      <th>1</th>\n",
       "      <td>2023-05-05</td>\n",
       "      <td>Hot pepper</td>\n",
       "      <td>Vegetable</td>\n",
       "      <td>1334.51</td>\n",
       "      <td>quintal</td>\n",
       "      <td>Bahir Dar</td>\n",
       "      <td>Oromia</td>\n",
       "      <td>Wolaita</td>\n",
       "      <td>Wholesale</td>\n",
       "    </tr>\n",
       "    <tr>\n",
       "      <th>2</th>\n",
       "      <td>2023-12-03</td>\n",
       "      <td>Sugar (local)</td>\n",
       "      <td>Processed Food</td>\n",
       "      <td>245.54</td>\n",
       "      <td>kg</td>\n",
       "      <td>Jimma</td>\n",
       "      <td>Tigray</td>\n",
       "      <td>Basketo</td>\n",
       "      <td>Wholesale</td>\n",
       "    </tr>\n",
       "    <tr>\n",
       "      <th>3</th>\n",
       "      <td>2024-06-08</td>\n",
       "      <td>Fava beans</td>\n",
       "      <td>Other</td>\n",
       "      <td>132.15</td>\n",
       "      <td>kg</td>\n",
       "      <td>Wolkite</td>\n",
       "      <td>SNNPR</td>\n",
       "      <td>Kaffa</td>\n",
       "      <td>Farmgate</td>\n",
       "    </tr>\n",
       "    <tr>\n",
       "      <th>4</th>\n",
       "      <td>2024-01-05</td>\n",
       "      <td>Nifro</td>\n",
       "      <td>Other</td>\n",
       "      <td>1619.45</td>\n",
       "      <td>quintal</td>\n",
       "      <td>Gonder</td>\n",
       "      <td>Tigray</td>\n",
       "      <td>Bole</td>\n",
       "      <td>Retail</td>\n",
       "    </tr>\n",
       "  </tbody>\n",
       "</table>\n",
       "</div>"
      ],
      "text/plain": [
       "         date        product        category    price     unit market_name  \\\n",
       "0  2023-02-26         Millet          Cereal  1407.95  quintal       Jimma   \n",
       "1  2023-05-05     Hot pepper       Vegetable  1334.51  quintal   Bahir Dar   \n",
       "2  2023-12-03  Sugar (local)  Processed Food   245.54       kg       Jimma   \n",
       "3  2024-06-08     Fava beans           Other   132.15       kg     Wolkite   \n",
       "4  2024-01-05          Nifro           Other  1619.45  quintal      Gonder   \n",
       "\n",
       "   region       woreda price_type  \n",
       "0   SNNPR  North Shewa     Retail  \n",
       "1  Oromia      Wolaita  Wholesale  \n",
       "2  Tigray      Basketo  Wholesale  \n",
       "3   SNNPR        Kaffa   Farmgate  \n",
       "4  Tigray         Bole     Retail  "
      ]
     },
     "execution_count": 4,
     "metadata": {},
     "output_type": "execute_result"
    }
   ],
   "source": [
    "df.head()"
   ]
  },
  {
   "cell_type": "code",
   "execution_count": 5,
   "id": "201ebadd-5a3d-409b-aec9-d7ecaecc1d7a",
   "metadata": {},
   "outputs": [
    {
     "data": {
      "application/vnd.dataresource+json": {
       "data": [
        {
         "category": "Processed Food",
         "count": 1824
        },
        {
         "category": "Vegetable",
         "count": 1769
        },
        {
         "category": "Animal Product",
         "count": 1756
        },
        {
         "category": "Fruit",
         "count": 1746
        },
        {
         "category": "Cereal",
         "count": 1720
        },
        {
         "category": "Other",
         "count": 1712
        }
       ],
       "schema": {
        "fields": [
         {
          "name": "category",
          "type": "string"
         },
         {
          "name": "count",
          "type": "integer"
         }
        ],
        "pandas_version": "1.4.0",
        "primaryKey": [
         "category"
        ]
       }
      },
      "text/plain": [
       "category\n",
       "Processed Food    1824\n",
       "Vegetable         1769\n",
       "Animal Product    1756\n",
       "Fruit             1746\n",
       "Cereal            1720\n",
       "Other             1712\n",
       "Name: count, dtype: int64"
      ]
     },
     "execution_count": 5,
     "metadata": {},
     "output_type": "execute_result"
    }
   ],
   "source": [
    "df['category'].value_counts()"
   ]
  },
  {
   "cell_type": "code",
   "execution_count": 7,
   "id": "35b65b5a-a616-4478-b015-2cfdd515e6e5",
   "metadata": {},
   "outputs": [
    {
     "data": {
      "application/vnd.dataresource+json": {
       "data": [
        {
         "index": "date",
         "values": 0
        },
        {
         "index": "product",
         "values": 0
        },
        {
         "index": "category",
         "values": 0
        },
        {
         "index": "price",
         "values": 0
        },
        {
         "index": "unit",
         "values": 0
        },
        {
         "index": "market_name",
         "values": 0
        },
        {
         "index": "region",
         "values": 0
        },
        {
         "index": "woreda",
         "values": 0
        },
        {
         "index": "price_type",
         "values": 0
        }
       ],
       "schema": {
        "fields": [
         {
          "name": "index",
          "type": "string"
         },
         {
          "name": "values",
          "type": "integer"
         }
        ],
        "pandas_version": "1.4.0",
        "primaryKey": [
         "index"
        ]
       }
      },
      "text/plain": [
       "date           0\n",
       "product        0\n",
       "category       0\n",
       "price          0\n",
       "unit           0\n",
       "market_name    0\n",
       "region         0\n",
       "woreda         0\n",
       "price_type     0\n",
       "dtype: int64"
      ]
     },
     "execution_count": 7,
     "metadata": {},
     "output_type": "execute_result"
    }
   ],
   "source": [
    "df.isnull().sum()"
   ]
  },
  {
   "cell_type": "markdown",
   "id": "93e2537f-cf70-455e-af98-e9609f1ab6f5",
   "metadata": {},
   "source": [
    "# Data Preprocessing"
   ]
  },
  {
   "cell_type": "code",
   "execution_count": 10,
   "id": "e98ae915-76b5-4ae6-9fd8-9f88751ed721",
   "metadata": {},
   "outputs": [],
   "source": [
    "df['date'] = pd.to_datetime(df['date'])"
   ]
  },
  {
   "cell_type": "code",
   "execution_count": 12,
   "id": "a8f3b768-2aa4-426f-a02e-6e18eab26ecf",
   "metadata": {},
   "outputs": [],
   "source": [
    "df = df.sort_values('date')"
   ]
  },
  {
   "cell_type": "code",
   "execution_count": 13,
   "id": "381a7a18-6cc2-4f6a-b525-93041c18be81",
   "metadata": {},
   "outputs": [
    {
     "data": {
      "application/vnd.dataresource+json": {
       "data": [
        {
         "category": "Processed Food",
         "date": "2023-01-01T00:00:00.000",
         "index": 7777,
         "market_name": "Jimma",
         "price": 2161.23,
         "price_type": "Wholesale",
         "product": "Sugar (local)",
         "region": "Amhara",
         "unit": "quintal",
         "woreda": "Jimma Town"
        },
        {
         "category": "Processed Food",
         "date": "2023-01-01T00:00:00.000",
         "index": 9766,
         "market_name": "Shola",
         "price": 1226.75,
         "price_type": "Retail",
         "product": "Sugar (local)",
         "region": "Addis Ababa",
         "unit": "quintal",
         "woreda": "Bole"
        },
        {
         "category": "Animal Product",
         "date": "2023-01-01T00:00:00.000",
         "index": 868,
         "market_name": "Hossana",
         "price": 1490.15,
         "price_type": "Farmgate",
         "product": "Yogurt",
         "region": "Southwest Ethiopia",
         "unit": "quintal",
         "woreda": "Basketo"
        },
        {
         "category": "Fruit",
         "date": "2023-01-01T00:00:00.000",
         "index": 6281,
         "market_name": "Gonder",
         "price": 168.28,
         "price_type": "Farmgate",
         "product": "Papaya",
         "region": "Addis Ababa",
         "unit": "kg",
         "woreda": "Bole"
        },
        {
         "category": "Animal Product",
         "date": "2023-01-01T00:00:00.000",
         "index": 2013,
         "market_name": "Jimma",
         "price": 67.78,
         "price_type": "Retail",
         "product": "Goat meat",
         "region": "Oromia",
         "unit": "kg",
         "woreda": "Kolfe"
        }
       ],
       "schema": {
        "fields": [
         {
          "name": "index",
          "type": "integer"
         },
         {
          "name": "date",
          "type": "datetime"
         },
         {
          "name": "product",
          "type": "string"
         },
         {
          "name": "category",
          "type": "string"
         },
         {
          "name": "price",
          "type": "number"
         },
         {
          "name": "unit",
          "type": "string"
         },
         {
          "name": "market_name",
          "type": "string"
         },
         {
          "name": "region",
          "type": "string"
         },
         {
          "name": "woreda",
          "type": "string"
         },
         {
          "name": "price_type",
          "type": "string"
         }
        ],
        "pandas_version": "1.4.0",
        "primaryKey": [
         "index"
        ]
       }
      },
      "text/html": [
       "<div>\n",
       "<style scoped>\n",
       "    .dataframe tbody tr th:only-of-type {\n",
       "        vertical-align: middle;\n",
       "    }\n",
       "\n",
       "    .dataframe tbody tr th {\n",
       "        vertical-align: top;\n",
       "    }\n",
       "\n",
       "    .dataframe thead th {\n",
       "        text-align: right;\n",
       "    }\n",
       "</style>\n",
       "<table border=\"1\" class=\"dataframe\">\n",
       "  <thead>\n",
       "    <tr style=\"text-align: right;\">\n",
       "      <th></th>\n",
       "      <th>date</th>\n",
       "      <th>product</th>\n",
       "      <th>category</th>\n",
       "      <th>price</th>\n",
       "      <th>unit</th>\n",
       "      <th>market_name</th>\n",
       "      <th>region</th>\n",
       "      <th>woreda</th>\n",
       "      <th>price_type</th>\n",
       "    </tr>\n",
       "  </thead>\n",
       "  <tbody>\n",
       "    <tr>\n",
       "      <th>7777</th>\n",
       "      <td>2023-01-01</td>\n",
       "      <td>Sugar (local)</td>\n",
       "      <td>Processed Food</td>\n",
       "      <td>2161.23</td>\n",
       "      <td>quintal</td>\n",
       "      <td>Jimma</td>\n",
       "      <td>Amhara</td>\n",
       "      <td>Jimma Town</td>\n",
       "      <td>Wholesale</td>\n",
       "    </tr>\n",
       "    <tr>\n",
       "      <th>9766</th>\n",
       "      <td>2023-01-01</td>\n",
       "      <td>Sugar (local)</td>\n",
       "      <td>Processed Food</td>\n",
       "      <td>1226.75</td>\n",
       "      <td>quintal</td>\n",
       "      <td>Shola</td>\n",
       "      <td>Addis Ababa</td>\n",
       "      <td>Bole</td>\n",
       "      <td>Retail</td>\n",
       "    </tr>\n",
       "    <tr>\n",
       "      <th>868</th>\n",
       "      <td>2023-01-01</td>\n",
       "      <td>Yogurt</td>\n",
       "      <td>Animal Product</td>\n",
       "      <td>1490.15</td>\n",
       "      <td>quintal</td>\n",
       "      <td>Hossana</td>\n",
       "      <td>Southwest Ethiopia</td>\n",
       "      <td>Basketo</td>\n",
       "      <td>Farmgate</td>\n",
       "    </tr>\n",
       "    <tr>\n",
       "      <th>6281</th>\n",
       "      <td>2023-01-01</td>\n",
       "      <td>Papaya</td>\n",
       "      <td>Fruit</td>\n",
       "      <td>168.28</td>\n",
       "      <td>kg</td>\n",
       "      <td>Gonder</td>\n",
       "      <td>Addis Ababa</td>\n",
       "      <td>Bole</td>\n",
       "      <td>Farmgate</td>\n",
       "    </tr>\n",
       "    <tr>\n",
       "      <th>2013</th>\n",
       "      <td>2023-01-01</td>\n",
       "      <td>Goat meat</td>\n",
       "      <td>Animal Product</td>\n",
       "      <td>67.78</td>\n",
       "      <td>kg</td>\n",
       "      <td>Jimma</td>\n",
       "      <td>Oromia</td>\n",
       "      <td>Kolfe</td>\n",
       "      <td>Retail</td>\n",
       "    </tr>\n",
       "  </tbody>\n",
       "</table>\n",
       "</div>"
      ],
      "text/plain": [
       "           date        product        category    price     unit market_name  \\\n",
       "7777 2023-01-01  Sugar (local)  Processed Food  2161.23  quintal       Jimma   \n",
       "9766 2023-01-01  Sugar (local)  Processed Food  1226.75  quintal       Shola   \n",
       "868  2023-01-01         Yogurt  Animal Product  1490.15  quintal     Hossana   \n",
       "6281 2023-01-01         Papaya           Fruit   168.28       kg      Gonder   \n",
       "2013 2023-01-01      Goat meat  Animal Product    67.78       kg       Jimma   \n",
       "\n",
       "                  region      woreda price_type  \n",
       "7777              Amhara  Jimma Town  Wholesale  \n",
       "9766         Addis Ababa        Bole     Retail  \n",
       "868   Southwest Ethiopia     Basketo   Farmgate  \n",
       "6281         Addis Ababa        Bole   Farmgate  \n",
       "2013              Oromia       Kolfe     Retail  "
      ]
     },
     "execution_count": 13,
     "metadata": {},
     "output_type": "execute_result"
    }
   ],
   "source": [
    "df.head()"
   ]
  },
  {
   "cell_type": "code",
   "execution_count": null,
   "id": "20ece8ac-2108-4e3a-bd7b-0675f369873d",
   "metadata": {},
   "outputs": [],
   "source": []
  }
 ],
 "metadata": {
  "kernelspec": {
   "display_name": "Python 3 (ipykernel)",
   "language": "python",
   "name": "python3"
  },
  "language_info": {
   "codemirror_mode": {
    "name": "ipython",
    "version": 3
   },
   "file_extension": ".py",
   "mimetype": "text/x-python",
   "name": "python",
   "nbconvert_exporter": "python",
   "pygments_lexer": "ipython3",
   "version": "3.12.7"
  }
 },
 "nbformat": 4,
 "nbformat_minor": 5
}
