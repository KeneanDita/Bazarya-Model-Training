{
 "cells": [
  {
   "cell_type": "markdown",
   "id": "9a482f5e-0007-4c3b-b563-bc899d508d53",
   "metadata": {},
   "source": [
    "# Importing Libraries"
   ]
  },
  {
   "cell_type": "code",
   "execution_count": 2,
   "id": "1b2228b1-67ea-4972-b203-a22d06391072",
   "metadata": {},
   "outputs": [],
   "source": [
    "import numpy as np \n",
    "import pandas as pd \n",
    "import matplotlib.pyplot as plt \n",
    "import seaborn as sns\n",
    "import warnings\n",
    "warnings.filterwarnings('ignore')"
   ]
  },
  {
   "cell_type": "markdown",
   "id": "88b0a53e-12e0-4c7f-8673-ba202a7b0724",
   "metadata": {},
   "source": [
    "# Data Loading and Overview"
   ]
  },
  {
   "cell_type": "code",
   "execution_count": 3,
   "id": "7e430353-7cae-424e-adf8-6442badb8d84",
   "metadata": {},
   "outputs": [],
   "source": [
    "df = pd.read_csv('Data/bazarya_price_data.csv')"
   ]
  },
  {
   "cell_type": "code",
   "execution_count": 4,
   "id": "5a8332f4-bbc1-4c52-8598-0663716df2c2",
   "metadata": {},
   "outputs": [
    {
     "data": {
      "application/vnd.dataresource+json": {
       "data": [
        {
         "category": "Cereal",
         "date": "2023-02-26",
         "index": 0,
         "market_name": "Jimma",
         "price": 1407.95,
         "price_type": "Retail",
         "product": "Millet",
         "region": "SNNPR",
         "unit": "quintal",
         "woreda": "North Shewa"
        },
        {
         "category": "Vegetable",
         "date": "2023-05-05",
         "index": 1,
         "market_name": "Bahir Dar",
         "price": 1334.51,
         "price_type": "Wholesale",
         "product": "Hot pepper",
         "region": "Oromia",
         "unit": "quintal",
         "woreda": "Wolaita"
        },
        {
         "category": "Processed Food",
         "date": "2023-12-03",
         "index": 2,
         "market_name": "Jimma",
         "price": 245.54,
         "price_type": "Wholesale",
         "product": "Sugar (local)",
         "region": "Tigray",
         "unit": "kg",
         "woreda": "Basketo"
        },
        {
         "category": "Other",
         "date": "2024-06-08",
         "index": 3,
         "market_name": "Wolkite",
         "price": 132.15,
         "price_type": "Farmgate",
         "product": "Fava beans",
         "region": "SNNPR",
         "unit": "kg",
         "woreda": "Kaffa"
        },
        {
         "category": "Other",
         "date": "2024-01-05",
         "index": 4,
         "market_name": "Gonder",
         "price": 1619.45,
         "price_type": "Retail",
         "product": "Nifro",
         "region": "Tigray",
         "unit": "quintal",
         "woreda": "Bole"
        }
       ],
       "schema": {
        "fields": [
         {
          "name": "index",
          "type": "integer"
         },
         {
          "name": "date",
          "type": "string"
         },
         {
          "name": "product",
          "type": "string"
         },
         {
          "name": "category",
          "type": "string"
         },
         {
          "name": "price",
          "type": "number"
         },
         {
          "name": "unit",
          "type": "string"
         },
         {
          "name": "market_name",
          "type": "string"
         },
         {
          "name": "region",
          "type": "string"
         },
         {
          "name": "woreda",
          "type": "string"
         },
         {
          "name": "price_type",
          "type": "string"
         }
        ],
        "pandas_version": "1.4.0",
        "primaryKey": [
         "index"
        ]
       }
      },
      "text/html": [
       "<div>\n",
       "<style scoped>\n",
       "    .dataframe tbody tr th:only-of-type {\n",
       "        vertical-align: middle;\n",
       "    }\n",
       "\n",
       "    .dataframe tbody tr th {\n",
       "        vertical-align: top;\n",
       "    }\n",
       "\n",
       "    .dataframe thead th {\n",
       "        text-align: right;\n",
       "    }\n",
       "</style>\n",
       "<table border=\"1\" class=\"dataframe\">\n",
       "  <thead>\n",
       "    <tr style=\"text-align: right;\">\n",
       "      <th></th>\n",
       "      <th>date</th>\n",
       "      <th>product</th>\n",
       "      <th>category</th>\n",
       "      <th>price</th>\n",
       "      <th>unit</th>\n",
       "      <th>market_name</th>\n",
       "      <th>region</th>\n",
       "      <th>woreda</th>\n",
       "      <th>price_type</th>\n",
       "    </tr>\n",
       "  </thead>\n",
       "  <tbody>\n",
       "    <tr>\n",
       "      <th>0</th>\n",
       "      <td>2023-02-26</td>\n",
       "      <td>Millet</td>\n",
       "      <td>Cereal</td>\n",
       "      <td>1407.95</td>\n",
       "      <td>quintal</td>\n",
       "      <td>Jimma</td>\n",
       "      <td>SNNPR</td>\n",
       "      <td>North Shewa</td>\n",
       "      <td>Retail</td>\n",
       "    </tr>\n",
       "    <tr>\n",
       "      <th>1</th>\n",
       "      <td>2023-05-05</td>\n",
       "      <td>Hot pepper</td>\n",
       "      <td>Vegetable</td>\n",
       "      <td>1334.51</td>\n",
       "      <td>quintal</td>\n",
       "      <td>Bahir Dar</td>\n",
       "      <td>Oromia</td>\n",
       "      <td>Wolaita</td>\n",
       "      <td>Wholesale</td>\n",
       "    </tr>\n",
       "    <tr>\n",
       "      <th>2</th>\n",
       "      <td>2023-12-03</td>\n",
       "      <td>Sugar (local)</td>\n",
       "      <td>Processed Food</td>\n",
       "      <td>245.54</td>\n",
       "      <td>kg</td>\n",
       "      <td>Jimma</td>\n",
       "      <td>Tigray</td>\n",
       "      <td>Basketo</td>\n",
       "      <td>Wholesale</td>\n",
       "    </tr>\n",
       "    <tr>\n",
       "      <th>3</th>\n",
       "      <td>2024-06-08</td>\n",
       "      <td>Fava beans</td>\n",
       "      <td>Other</td>\n",
       "      <td>132.15</td>\n",
       "      <td>kg</td>\n",
       "      <td>Wolkite</td>\n",
       "      <td>SNNPR</td>\n",
       "      <td>Kaffa</td>\n",
       "      <td>Farmgate</td>\n",
       "    </tr>\n",
       "    <tr>\n",
       "      <th>4</th>\n",
       "      <td>2024-01-05</td>\n",
       "      <td>Nifro</td>\n",
       "      <td>Other</td>\n",
       "      <td>1619.45</td>\n",
       "      <td>quintal</td>\n",
       "      <td>Gonder</td>\n",
       "      <td>Tigray</td>\n",
       "      <td>Bole</td>\n",
       "      <td>Retail</td>\n",
       "    </tr>\n",
       "  </tbody>\n",
       "</table>\n",
       "</div>"
      ],
      "text/plain": [
       "         date        product        category    price     unit market_name  \\\n",
       "0  2023-02-26         Millet          Cereal  1407.95  quintal       Jimma   \n",
       "1  2023-05-05     Hot pepper       Vegetable  1334.51  quintal   Bahir Dar   \n",
       "2  2023-12-03  Sugar (local)  Processed Food   245.54       kg       Jimma   \n",
       "3  2024-06-08     Fava beans           Other   132.15       kg     Wolkite   \n",
       "4  2024-01-05          Nifro           Other  1619.45  quintal      Gonder   \n",
       "\n",
       "   region       woreda price_type  \n",
       "0   SNNPR  North Shewa     Retail  \n",
       "1  Oromia      Wolaita  Wholesale  \n",
       "2  Tigray      Basketo  Wholesale  \n",
       "3   SNNPR        Kaffa   Farmgate  \n",
       "4  Tigray         Bole     Retail  "
      ]
     },
     "execution_count": 4,
     "metadata": {},
     "output_type": "execute_result"
    }
   ],
   "source": [
    "df.head()"
   ]
  },
  {
   "cell_type": "code",
   "execution_count": 5,
   "id": "201ebadd-5a3d-409b-aec9-d7ecaecc1d7a",
   "metadata": {},
   "outputs": [
    {
     "data": {
      "application/vnd.dataresource+json": {
       "data": [
        {
         "category": "Processed Food",
         "count": 1824
        },
        {
         "category": "Vegetable",
         "count": 1769
        },
        {
         "category": "Animal Product",
         "count": 1756
        },
        {
         "category": "Fruit",
         "count": 1746
        },
        {
         "category": "Cereal",
         "count": 1720
        },
        {
         "category": "Other",
         "count": 1712
        }
       ],
       "schema": {
        "fields": [
         {
          "name": "category",
          "type": "string"
         },
         {
          "name": "count",
          "type": "integer"
         }
        ],
        "pandas_version": "1.4.0",
        "primaryKey": [
         "category"
        ]
       }
      },
      "text/plain": [
       "category\n",
       "Processed Food    1824\n",
       "Vegetable         1769\n",
       "Animal Product    1756\n",
       "Fruit             1746\n",
       "Cereal            1720\n",
       "Other             1712\n",
       "Name: count, dtype: int64"
      ]
     },
     "execution_count": 5,
     "metadata": {},
     "output_type": "execute_result"
    }
   ],
   "source": [
    "df['category'].value_counts()"
   ]
  },
  {
   "cell_type": "code",
   "execution_count": null,
   "id": "35b65b5a-a616-4478-b015-2cfdd515e6e5",
   "metadata": {},
   "outputs": [],
   "source": []
  }
 ],
 "metadata": {
  "kernelspec": {
   "display_name": "Python 3 (ipykernel)",
   "language": "python",
   "name": "python3"
  },
  "language_info": {
   "codemirror_mode": {
    "name": "ipython",
    "version": 3
   },
   "file_extension": ".py",
   "mimetype": "text/x-python",
   "name": "python",
   "nbconvert_exporter": "python",
   "pygments_lexer": "ipython3",
   "version": "3.12.7"
  }
 },
 "nbformat": 4,
 "nbformat_minor": 5
}
